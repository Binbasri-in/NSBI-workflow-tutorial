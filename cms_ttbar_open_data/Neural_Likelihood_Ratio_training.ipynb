{
 "cells": [
  {
   "cell_type": "markdown",
   "id": "85242300-60a2-467d-9f11-8af27bdc312a",
   "metadata": {},
   "source": [
    "Train Neural Networks to estimate Likelihood Ratios\n",
    "===\n",
    "\n",
    "In this notebook we will setup the neural networks that train unbiased and low-variance density ratios to be then used for inference. The statistical model we have is: \n",
    "\n",
    "$$p(x|\\mu, \\alpha) = \\frac{1}{\\nu(\\mu, \\alpha)} \\sum_c f_c(\\mu) \\cdot \\nu_c(\\alpha) \\cdot p_c\\left(x|\\alpha\\right)$$\n",
    "\n",
    "where $c$ stands for the various physics channels that contribute to the final state $x$, $\\mu$ is the signal-strength parameter and $\\alpha$ is the vector of nuisance parameters associated with the various systematic uncertainties in the model. Note that we are assuming that the parameter $\\mu$-dependence is known analytically and that we have simulation models for each of the channels $p_c(x)$. \n",
    "\n",
    "The objective is to build the test statistic for composite hypothesis testing:\n",
    "\n",
    "$$t_\\mu = -2 \\ln \\frac{p(x|\\mu, \\hat{\\hat{\\alpha}})}{p(x|\\hat{\\mu}, \\hat{\\alpha})}$$\n",
    "\n",
    "A direct approach would then be to model the probability density $p(x|\\mu, \\alpha)$ using NNs. But that is a more difficult task than training probability density ratios. We use a simple trick:\n",
    "\n",
    "$$t_\\mu = -2 \\ln \\frac{p(x|\\mu, \\hat{\\hat{\\alpha}})/p_{ref}(x)}{p(x|\\hat{\\mu}, \\hat{\\alpha})/p_{ref}(x)}$$\n",
    "\n",
    "to turn this into a density ratio estimation problem:\n",
    "\n",
    "$$\\frac{p(x|\\mu, \\alpha)}{p_{ref}(x)} = \\frac{1}{\\nu(\\mu, \\alpha)} \\sum_c f_c(\\mu) \\cdot \\nu_c(\\alpha) \\cdot \\frac{p_c\\left(x|\\alpha\\right)}{p_{ref}(x)}$$\n",
    "\n",
    "Factorizing out the $\\alpha$-dependence in the density ratios:\n",
    "\n",
    "$$\\frac{p(x|\\mu, \\alpha)}{p_{ref}(x)} = \\frac{1}{\\sum_c G_c(\\alpha) \\cdot f_c(\\mu) \\cdot \\nu_c} \\sum_c f_c(\\mu) \\cdot \\nu_c(\\alpha) \\cdot g_c(x|\\alpha) \\cdot \\frac{p_c\\left(x\\right)}{p_{ref}(x)}$$\n",
    "\n",
    "Furthermore, instead of training NNs parameterized on $\\mu$ and $\\alpha$, we use analytical parameterizations to simplify the problem to training only parameter-independent density ratios.\n",
    "\n",
    "Let's set this up for the ttbar dataset!"
   ]
  },
  {
   "cell_type": "code",
   "execution_count": 1,
   "id": "0a769dae-97a2-44f9-bc81-e4c74ff7bedb",
   "metadata": {},
   "outputs": [
    {
     "name": "stderr",
     "output_type": "stream",
     "text": [
      "/data/jaySandesara/NSBI_workflow_tutorial/cms_ttbar_open_data/../common_utils/plotting.py:10: FutureWarning: ``set_style`` is deprecated: Naming convention is changing to match mpl. Use ``mplhep.style.use()``.\n",
      "  hep.set_style(\"ATLAS\")\n",
      "2025-02-12 19:31:59.709370: I tensorflow/core/platform/cpu_feature_guard.cc:182] This TensorFlow binary is optimized to use available CPU instructions in performance-critical operations.\n",
      "To enable the following instructions: AVX2 FMA, in other operations, rebuild TensorFlow with the appropriate compiler flags.\n",
      "2025-02-12 19:32:00.344291: W tensorflow/compiler/tf2tensorrt/utils/py_utils.cc:38] TF-TRT Warning: Could not find TensorRT\n"
     ]
    }
   ],
   "source": [
    "import os, sys, importlib\n",
    "sys.path.append('../')\n",
    "\n",
    "import common_utils\n",
    "from common_utils import plotting, training\n",
    "from common_utils.training import TrainEvaluate_NN, TrainEvaluatePreselNN\n",
    "import tensorflow as tf\n",
    "from tensorflow import keras\n",
    "from tensorflow.keras import layers\n",
    "import numpy as np\n",
    "import pandas as pd\n",
    "from sklearn.model_selection import train_test_split\n",
    "from sklearn.preprocessing import StandardScaler, OneHotEncoder, MinMaxScaler\n",
    "from tensorflow.keras.optimizers import Nadam\n",
    "import mplhep as hep\n",
    "import matplotlib.pyplot as plt\n",
    "\n",
    "hep.style.use(hep.style.ATLAS)"
   ]
  },
  {
   "cell_type": "code",
   "execution_count": 2,
   "id": "1051f14a-0104-418b-9e43-6edcdcd07df2",
   "metadata": {},
   "outputs": [],
   "source": [
    "# Load the datasets from pre-processed input\n",
    "saved_data='./cached_data/'\n",
    "\n",
    "training_features = np.load(f\"{saved_data}features.npy\")\n",
    "train_labels = np.load(f\"{saved_data}train_labels.npy\")\n",
    "weights = np.load(f\"{saved_data}weights.npy\")"
   ]
  },
  {
   "cell_type": "code",
   "execution_count": 3,
   "id": "60a09162-926c-49a8-956d-0e952a2c8485",
   "metadata": {},
   "outputs": [],
   "source": [
    "# labels_dict = {\"ttbar\": 0,\n",
    "#                \"single_top_s_chan\":1,\n",
    "#               \"single_top_t_chan\":2,\n",
    "#               \"single_top_tW\":3,\n",
    "#               \"wjets\":4}\n",
    "\n",
    "# Keep only a subset of the background for illustration\n",
    "labels_dict = {\"ttbar\": 0,\n",
    "              \"single_top_t_chan\":1,\n",
    "              \"wjets\":2}"
   ]
  },
  {
   "cell_type": "code",
   "execution_count": 4,
   "id": "0fa3f547-30f0-41f5-b654-df0226bbd111",
   "metadata": {},
   "outputs": [],
   "source": [
    "type_vec = np.array(train_labels, dtype='object')\n",
    "\n",
    "for key in labels_dict:\n",
    "    type_vec[type_vec==labels_dict[key]] = key\n"
   ]
  },
  {
   "cell_type": "code",
   "execution_count": 5,
   "id": "2ba6e629-97bd-4764-bec2-159ba3b856fa",
   "metadata": {},
   "outputs": [],
   "source": [
    "# Build a pandas dataframe from the arrays for density ratio training and validation\n",
    "columns = ['lepton_pt', 'lepton_eta', 'lepton_phi', 'H_T']\n",
    "dataset_incl = pd.DataFrame(training_features, columns=columns)\n",
    "\n",
    "# Some scaling to reduce the spread of pt distributions \n",
    "dataset_incl['log_lepton_pt'] = np.log(dataset_incl['lepton_pt'].ravel())\n",
    "dataset_incl['log_H_T'] = np.log(dataset_incl['H_T'].ravel()+1.0) # Add the one to compensate to avoid log of 0\n",
    "\n",
    "# Some scaling to reduce the spread of pt distributions \n",
    "dataset_incl['train_labels_presel'] = train_labels\n",
    "dataset_incl['type'] = type_vec\n",
    "dataset_incl['weights'] = weights"
   ]
  },
  {
   "cell_type": "code",
   "execution_count": 6,
   "id": "88ec0ba6-b840-4d7d-a5bb-d7fca2cb946f",
   "metadata": {},
   "outputs": [],
   "source": [
    "# Normalizing the training weights - only discriminating shapes, not norms\n",
    "\n",
    "weights_normed = weights.copy()\n",
    "\n",
    "for key in labels_dict:\n",
    "\n",
    "    weights_normed[train_labels==labels_dict[key]] /= weights[train_labels==labels_dict[key]].sum()\n",
    "\n",
    "dataset_incl['weights_normed'] = weights_normed\n"
   ]
  },
  {
   "cell_type": "markdown",
   "id": "2d7f8e5e-0f6c-427a-8302-cf6592d7f044",
   "metadata": {},
   "source": [
    "The density ratios need to be trained on phase space regions with support for the reference hypothesis $p_{ref}(x) > 0$.\n",
    "\n",
    "To ensure this, we make a selection that selects events in the phase space regions with $p_{ref}(x) > 0$, and only perform the NSBI fit in this selected analysis region. A natural choice for the reference hypothesis is then a mix of signal hypotheses $p_{ref}(x) = \\frac{1}{\\sum_S \\nu_S} \\sum_S \\frac{d\\sigma_S}{dx}$.\n",
    "\n",
    "A multi-class classification NN, with softmax output, is trained to output a score:\n",
    "\n",
    "$$ \\text{NN}_\\text{presel} = \\log \\left[\\frac{\\sum_S P_S (x)}{\\sum_B P_B(x)} \\right]$$\n",
    "\n",
    "where $P_X$ are the probability scores outputted from the softmax layer of the trained NN.\n",
    "\n"
   ]
  },
  {
   "cell_type": "markdown",
   "id": "2e590157-65c2-4020-9ae5-80ff7e4af574",
   "metadata": {},
   "source": [
    "Training the Preselection NN\n",
    "==="
   ]
  },
  {
   "cell_type": "code",
   "execution_count": 7,
   "id": "842f99a9-f9ea-405a-9133-23a64b95a589",
   "metadata": {},
   "outputs": [],
   "source": [
    "# Only use lepton kinematics\n",
    "columns = ['lepton_pt', 'lepton_eta', 'lepton_phi']\n",
    "columns_scaling = ['lepton_pt', 'lepton_eta', 'lepton_phi']\n",
    "\n",
    "# Only use lepton kinematics - use log pT for reduced spread\n",
    "columns = ['log_lepton_pt', 'lepton_eta', 'lepton_phi']\n",
    "columns_scaling = ['log_lepton_pt', 'lepton_eta', 'lepton_phi']\n",
    "\n",
    "# Use lepton kinematics and the sum of jet pT observable \n",
    "columns = ['log_lepton_pt', 'log_H_T', 'lepton_eta', 'lepton_phi']\n",
    "columns_scaling = ['log_lepton_pt', 'log_H_T', 'lepton_eta', 'lepton_phi'] # Subset of features which need scaling"
   ]
  },
  {
   "cell_type": "code",
   "execution_count": 11,
   "id": "ace064c7-94fd-458b-aab5-55d512cea983",
   "metadata": {},
   "outputs": [],
   "source": [
    "USE_SAVED_MODEL_PRESEL=False\n",
    "\n",
    "importlib.reload(sys.modules['common_utils.training'])\n",
    "from common_utils.training import TrainEvaluatePreselNN\n",
    "\n",
    "preselectionTraining = TrainEvaluatePreselNN(dataset_incl, columns, columns_scaling)"
   ]
  },
  {
   "cell_type": "code",
   "execution_count": 12,
   "id": "7dedd4ab-699f-4077-a678-73993e76dc36",
   "metadata": {
    "scrolled": true
   },
   "outputs": [
    {
     "name": "stderr",
     "output_type": "stream",
     "text": [
      "2025-02-12 19:34:27.145249: I tensorflow/core/common_runtime/gpu/gpu_device.cc:1639] Created device /job:localhost/replica:0/task:0/device:GPU:0 with 3234 MB memory:  -> device: 0, name: NVIDIA A100-SXM4-40GB MIG 1g.5gb, pci bus id: 0000:81:00.0, compute capability: 8.0\n"
     ]
    },
    {
     "name": "stdout",
     "output_type": "stream",
     "text": [
      "Epoch 1/20\n"
     ]
    },
    {
     "name": "stderr",
     "output_type": "stream",
     "text": [
      "2025-02-12 19:34:28.140300: I tensorflow/compiler/xla/stream_executor/cuda/cuda_blas.cc:606] TensorFloat-32 will be used for the matrix multiplication. This will only be logged once.\n",
      "2025-02-12 19:34:28.170499: I tensorflow/compiler/xla/service/service.cc:168] XLA service 0x7fb8ccf618e0 initialized for platform CUDA (this does not guarantee that XLA will be used). Devices:\n",
      "2025-02-12 19:34:28.170580: I tensorflow/compiler/xla/service/service.cc:176]   StreamExecutor device (0): NVIDIA A100-SXM4-40GB MIG 1g.5gb, Compute Capability 8.0\n",
      "2025-02-12 19:34:28.177200: I tensorflow/compiler/mlir/tensorflow/utils/dump_mlir_util.cc:255] disabling MLIR crash reproducer, set env var `MLIR_CRASH_REPRODUCER_DIRECTORY` to enable.\n",
      "2025-02-12 19:34:28.190934: I tensorflow/compiler/xla/stream_executor/cuda/cuda_dnn.cc:432] Loaded cuDNN version 8906\n",
      "2025-02-12 19:34:28.246649: I tensorflow/tsl/platform/default/subprocess.cc:304] Start cannot spawn child process: No such file or directory\n",
      "2025-02-12 19:34:28.310792: I ./tensorflow/compiler/jit/device_compiler.h:186] Compiled cluster using XLA!  This line is logged at most once for the lifetime of the process.\n"
     ]
    },
    {
     "name": "stdout",
     "output_type": "stream",
     "text": [
      "2935/2935 [==============================] - 9s 2ms/step - loss: 6.2678e-07 - accuracy: 0.6912 - val_loss: 5.4714e-07 - val_accuracy: 0.7234\n",
      "Epoch 2/20\n",
      "2935/2935 [==============================] - 7s 2ms/step - loss: 5.4687e-07 - accuracy: 0.7216 - val_loss: 5.4388e-07 - val_accuracy: 0.7235\n",
      "Epoch 3/20\n",
      "2935/2935 [==============================] - 6s 2ms/step - loss: 5.4432e-07 - accuracy: 0.7220 - val_loss: 5.4182e-07 - val_accuracy: 0.7239\n",
      "Epoch 4/20\n",
      "2935/2935 [==============================] - 6s 2ms/step - loss: 5.4227e-07 - accuracy: 0.7222 - val_loss: 5.3997e-07 - val_accuracy: 0.7242\n",
      "Epoch 5/20\n",
      "2935/2935 [==============================] - 7s 2ms/step - loss: 5.4033e-07 - accuracy: 0.7225 - val_loss: 5.3819e-07 - val_accuracy: 0.7243\n",
      "Epoch 6/20\n",
      "2935/2935 [==============================] - 7s 2ms/step - loss: 5.3852e-07 - accuracy: 0.7227 - val_loss: 5.3657e-07 - val_accuracy: 0.7244\n",
      "Epoch 7/20\n",
      "2935/2935 [==============================] - 8s 3ms/step - loss: 5.3695e-07 - accuracy: 0.7229 - val_loss: 5.3503e-07 - val_accuracy: 0.7246\n",
      "Epoch 8/20\n",
      "2935/2935 [==============================] - 8s 3ms/step - loss: 5.3549e-07 - accuracy: 0.7231 - val_loss: 5.3360e-07 - val_accuracy: 0.7248\n",
      "Epoch 9/20\n",
      "2935/2935 [==============================] - 7s 2ms/step - loss: 5.3417e-07 - accuracy: 0.7232 - val_loss: 5.3240e-07 - val_accuracy: 0.7250\n",
      "Epoch 10/20\n",
      "2935/2935 [==============================] - 7s 3ms/step - loss: 5.3322e-07 - accuracy: 0.7234 - val_loss: 5.3166e-07 - val_accuracy: 0.7249\n",
      "Epoch 11/20\n",
      "2935/2935 [==============================] - 8s 3ms/step - loss: 5.3275e-07 - accuracy: 0.7236 - val_loss: 5.3136e-07 - val_accuracy: 0.7252\n",
      "Epoch 12/20\n",
      "2935/2935 [==============================] - 8s 3ms/step - loss: 5.3254e-07 - accuracy: 0.7235 - val_loss: 5.3124e-07 - val_accuracy: 0.7249\n",
      "Epoch 13/20\n",
      "2935/2935 [==============================] - 8s 3ms/step - loss: 5.3243e-07 - accuracy: 0.7236 - val_loss: 5.3117e-07 - val_accuracy: 0.7252\n",
      "Epoch 14/20\n",
      "2935/2935 [==============================] - 8s 3ms/step - loss: 5.3235e-07 - accuracy: 0.7236 - val_loss: 5.3112e-07 - val_accuracy: 0.7251\n",
      "Epoch 15/20\n",
      "2935/2935 [==============================] - 8s 3ms/step - loss: 5.3229e-07 - accuracy: 0.7236 - val_loss: 5.3104e-07 - val_accuracy: 0.7249\n",
      "Epoch 16/20\n",
      "2935/2935 [==============================] - 7s 3ms/step - loss: 5.3223e-07 - accuracy: 0.7236 - val_loss: 5.3101e-07 - val_accuracy: 0.7251\n",
      "Epoch 17/20\n",
      "2935/2935 [==============================] - 8s 3ms/step - loss: 5.3218e-07 - accuracy: 0.7236 - val_loss: 5.3094e-07 - val_accuracy: 0.7251\n",
      "Epoch 18/20\n",
      "2935/2935 [==============================] - 7s 2ms/step - loss: 5.3214e-07 - accuracy: 0.7236 - val_loss: 5.3089e-07 - val_accuracy: 0.7250\n",
      "Epoch 19/20\n",
      "2935/2935 [==============================] - 7s 3ms/step - loss: 5.3208e-07 - accuracy: 0.7237 - val_loss: 5.3085e-07 - val_accuracy: 0.7251\n",
      "Epoch 20/20\n",
      "2935/2935 [==============================] - 8s 3ms/step - loss: 5.3204e-07 - accuracy: 0.7237 - val_loss: 5.3080e-07 - val_accuracy: 0.7251\n"
     ]
    }
   ],
   "source": [
    "path_to_saved_presel_model = './preselection_saved_NN/'\n",
    "\n",
    "if not USE_SAVED_MODEL_PRESEL:\n",
    "    preselectionTraining.train(test_size=0.15, random_state=42, path_to_save=path_to_saved_presel_model)\n",
    "\n",
    "else:\n",
    "    preselectionTraining.get_trained_model(path_to_saved_presel_model)"
   ]
  },
  {
   "cell_type": "code",
   "execution_count": 13,
   "id": "b30de9be-aa90-4d6c-b550-b3a54bc500b9",
   "metadata": {
    "tags": []
   },
   "outputs": [
    {
     "name": "stdout",
     "output_type": "stream",
     "text": [
      "110475/110475 [==============================] - 75s 682us/step\n"
     ]
    }
   ],
   "source": [
    "# Get predictions (softmax outputs)\n",
    "pred_NN = preselectionTraining.predict(dataset_incl)"
   ]
  },
  {
   "cell_type": "code",
   "execution_count": 21,
   "id": "1fd293b3-1669-4394-ba20-59f22f06dcd4",
   "metadata": {},
   "outputs": [
    {
     "data": {
      "image/png": "[encoded data removed]",
      "text/plain": [
       "<Figure size 800x600 with 1 Axes>"
      ]
     },
     "metadata": {},
     "output_type": "display_data"
    }
   ],
   "source": [
    "# the preselection score as defined above - log(P_S/P_B)\n",
    "presel_score = np.log(pred_NN[:, labels_dict[\"ttbar\"]]/(pred_NN[:, labels_dict[\"single_top_t_chan\"]] + pred_NN[:, labels_dict[\"wjets\"]]))\n",
    "\n",
    "min_pred = np.amin(presel_score)\n",
    "max_pred = np.amax(presel_score)\n",
    "\n",
    "bins = np.linspace(min_pred, max_pred, num=150)\n",
    "\n",
    "hist_NN_output = {}\n",
    "for key in labels_dict: \n",
    "    hist_NN_output[key], _ = np.histogram(presel_score[train_labels==labels_dict[key]], weights = weights[train_labels==labels_dict[key]], bins=bins)\n",
    "\n",
    "\n",
    "for key in labels_dict:  \n",
    "    hep.histplot(hist_NN_output[key], bins=bins, \n",
    "             alpha=0.6, label=key, \n",
    "             density=True, linewidth=2.0)\n",
    "\n",
    "plt.xlabel(\"Preselection Score\", size=18)\n",
    "plt.ylabel(\"Density\", size=18)\n",
    "plt.legend()\n",
    "plt.yscale('log')\n",
    "plt.show()"
   ]
  },
  {
   "cell_type": "markdown",
   "id": "7114d95a-aa1f-4ebe-a177-d8729b941b4d",
   "metadata": {},
   "source": [
    "Make a selection cut for performing the NSBI analysis, balancing the number of signal events that go into the signal region (increasing sensitivity) and the feasibility of training accurate and precise NNs over a large phase space (need bigger models and more statistics).\n",
    "\n",
    "As a first cut, we choose a loose preselection and see if it works."
   ]
  },
  {
   "cell_type": "code",
   "execution_count": 22,
   "id": "0d78d612-3f33-40f1-b40a-e7bd96929ad4",
   "metadata": {},
   "outputs": [
    {
     "data": {
      "image/png": "[encoded data removed]",
      "text/plain": [
       "<Figure size 800x600 with 1 Axes>"
      ]
     },
     "metadata": {},
     "output_type": "display_data"
    }
   ],
   "source": [
    "preselection_cut = -3\n",
    "\n",
    "for key in labels_dict:  \n",
    "    hep.histplot(hist_NN_output[key], bins=bins, \n",
    "             alpha=0.6, label=key, \n",
    "             density=True, linewidth=2.0)\n",
    "\n",
    "plt.xlabel(\"Preselection Score\", size=18)\n",
    "plt.axvline(preselection_cut, ymax=0.9, linestyle='--', label=f'preselection cut ({preselection_cut})')\n",
    "plt.ylabel(\"Density\", size=18)\n",
    "plt.legend(loc='upper left')\n",
    "plt.yscale('log')\n",
    "plt.show()"
   ]
  },
  {
   "cell_type": "code",
   "execution_count": 32,
   "id": "e7a582f9-cfed-447a-a576-fd90f0e64a88",
   "metadata": {},
   "outputs": [],
   "source": [
    "# Make the preselections\n",
    "\n",
    "dataset_incl['presel_score'] = presel_score\n",
    "\n",
    "dataset = dataset_incl[dataset_incl.presel_score>=preselection_cut].copy()\n"
   ]
  },
  {
   "cell_type": "code",
   "execution_count": 35,
   "id": "c69e6230-cdd9-4a73-893e-13774cefc50d",
   "metadata": {},
   "outputs": [],
   "source": [
    "# Normalizing the training weights post preselection - only discriminating shapes, not norms\n",
    "\n",
    "weights_normed = dataset['weights'].ravel()\n",
    "weights = dataset['weights'].ravel()\n",
    "\n",
    "for key in labels_dict:\n",
    "\n",
    "    weights_normed[dataset['train_labels_presel']==labels_dict[key]] /= weights[dataset['train_labels_presel']==labels_dict[key]].sum()\n",
    "\n",
    "dataset['weights_normed'] = weights_normed\n"
   ]
  },
  {
   "cell_type": "code",
   "execution_count": 36,
   "id": "3f21f9f9-4b91-45c2-90dd-34b1e1e4320f",
   "metadata": {},
   "outputs": [],
   "source": [
    "# Save the preselected dataframe for inference use later on\n",
    "dataset.to_hdf(f\"{saved_data}dataset_preselected_ttbar.h5\", key=\"dataset\", mode='w')\n"
   ]
  },
  {
   "cell_type": "markdown",
   "id": "94d325c1-c6ba-46f7-bdcb-fb9f4c120986",
   "metadata": {},
   "source": [
    "Density ratio training\n",
    "===\n",
    "\n",
    "Now we train the NNs for $\\frac{p_c}{p_{ref}}(x)$ density ratios to build the full model. Since we chose $p_{t\\bar{t}}$ as the reference hypothesis, this leaves us with the estimation of:\n",
    "\n",
    "$$\\frac{p_\\text{single top}}{p_{t\\bar{t}}}(x) \\, , \\frac{p_\\text{wjets}}{p_{t\\bar{t}}}(x)$$"
   ]
  },
  {
   "cell_type": "code",
   "execution_count": 37,
   "id": "8966e691-14bb-4c04-8de3-880e5ccea5b6",
   "metadata": {},
   "outputs": [],
   "source": [
    "# Choose ttbar as the reference hypothesis\n",
    "dataset_ch_wjets_ref = pd.concat([dataset[dataset['type']=='wjets'], \n",
    "                                  dataset[dataset['type']=='ttbar']])\n",
    "\n",
    "dataset_ch_wjets_ref['train_labels'] = 0\n",
    "dataset_ch_wjets_ref.loc[dataset_ch_wjets_ref['type']=='ttbar', 'train_labels'] = 1\n"
   ]
  },
  {
   "cell_type": "code",
   "execution_count": 38,
   "id": "16488c2a-97c8-4239-bde7-a429ef5666ca",
   "metadata": {},
   "outputs": [],
   "source": [
    "NN_training_channels_dict = {}\n"
   ]
  },
  {
   "cell_type": "code",
   "execution_count": 39,
   "id": "588dd5f0-47be-4851-89ec-e4f27370b13a",
   "metadata": {},
   "outputs": [],
   "source": [
    "\n",
    "rnd_seed_traintestsplit = 42\n",
    "channel_names = ['wjets', 'ttbar']\n",
    "\n",
    "# Save paths\n",
    "output_dir = './output_general_wjets/'\n",
    "output_name = 'first_training_wjets'\n",
    "path_to_ratios = './output_ratios_wjets/'\n",
    "path_to_figures = './output_figures_wjets/'\n",
    "path_to_models = './output_model_params_wjets/'\n",
    "\n",
    "importlib.reload(sys.modules['common_utils.training'])\n",
    "from common_utils.training import TrainEvaluate_NN\n",
    "\n",
    "# Initialize the training class\n",
    "NN_training_channels_dict['wjets'] = TrainEvaluate_NN(dataset_ch_wjets_ref, \n",
    "                                                       dataset_ch_wjets_ref['weights_normed'],\n",
    "                                                       dataset_ch_wjets_ref['train_labels'],\n",
    "                                                       columns, \n",
    "                                                       columns_scaling, rnd_seed_traintestsplit, \n",
    "                                                       channel_names, output_dir, output_name, \n",
    "                                                        path_to_figures=path_to_figures,\n",
    "                                                        path_to_ratios=path_to_ratios, \n",
    "                                                        path_to_models=path_to_models)\n",
    "\n"
   ]
  },
  {
   "cell_type": "code",
   "execution_count": null,
   "id": "d8b74c62-0d18-479d-86d4-4e2837b1aa8a",
   "metadata": {
    "scrolled": true
   },
   "outputs": [
    {
     "name": "stdout",
     "output_type": "stream",
     "text": [
      "Sum of weights of class 0: 0.8000020728395832\n",
      "Sum of weights of class 1: 0.7999882071692165\n",
      "Using swish activation function\n",
      "Model: \"sequential_2\"\n",
      "_________________________________________________________________\n",
      " Layer (type)                Output Shape              Param #   \n",
      "=================================================================\n",
      " dense_9 (Dense)             (None, 1000)              5000      \n",
      "                                                                 \n",
      " dense_10 (Dense)            (None, 1000)              1001000   \n",
      "                                                                 \n",
      " dense_11 (Dense)            (None, 1000)              1001000   \n",
      "                                                                 \n",
      " dense_12 (Dense)            (None, 1000)              1001000   \n",
      "                                                                 \n",
      " dense_13 (Dense)            (None, 1)                 1001      \n",
      "                                                                 \n",
      "=================================================================\n",
      "Total params: 3009001 (11.48 MB)\n",
      "Trainable params: 3009001 (11.48 MB)\n",
      "Non-trainable params: 0 (0.00 Byte)\n",
      "_________________________________________________________________\n",
      "Using Callbacks\n",
      "Epoch 1/70\n"
     ]
    }
   ],
   "source": [
    "# Train the density ratio NN\n",
    "NN_training_channels_dict['wjets'].train(hidden_layers=4, \n",
    "                        neurons=1000, \n",
    "                        number_of_epochs=70, \n",
    "                        batch_size=1024, \n",
    "                        learning_rate=0.1, \n",
    "                        scalerType='MinMax', \n",
    "                        calibration=False, \n",
    "                        num_bins_cal = 10, \n",
    "                        callback=True, \n",
    "                        callback_patience=30, \n",
    "                        callback_factor=0.01)    \n"
   ]
  },
  {
   "cell_type": "code",
   "execution_count": null,
   "id": "d277fb9f-e768-4737-8a90-b9c38f494d36",
   "metadata": {},
   "outputs": [],
   "source": [
    "NN_training_channels_dict['wjets'].make_overfit_plots()"
   ]
  },
  {
   "cell_type": "code",
   "execution_count": null,
   "id": "e1a9052b-19be-4f12-86ef-67478c74b2a0",
   "metadata": {},
   "outputs": [],
   "source": [
    "num_bins_cal = 50\n",
    "NN_training_channels_dict['wjets'].make_calib_plots(nbins=num_bins_cal, observable='score')"
   ]
  },
  {
   "cell_type": "code",
   "execution_count": null,
   "id": "763af846-7504-46df-9da8-4519170f7ab3",
   "metadata": {},
   "outputs": [],
   "source": [
    "num_bins_cal = 50\n",
    "NN_training_channels_dict['wjets'].make_calib_plots(nbins=num_bins_cal, observable='llr')"
   ]
  },
  {
   "cell_type": "code",
   "execution_count": null,
   "id": "914b0855-9c96-47c2-a341-f7f583019cc4",
   "metadata": {},
   "outputs": [],
   "source": [
    "variables_to_plot=['lepton_pt']\n",
    "yscale_type='log'\n",
    "num_bins_plotting=21\n",
    "\n",
    "NN_training_channels_dict['wjets'].make_reweighted_plots(variables_to_plot, yscale_type, num_bins_plotting)\n"
   ]
  },
  {
   "cell_type": "code",
   "execution_count": null,
   "id": "f203e655-6a49-4e34-9a94-5776b92845b5",
   "metadata": {},
   "outputs": [],
   "source": [
    "variables_to_plot=['lepton_phi']\n",
    "yscale_type='log'\n",
    "num_bins_plotting=21\n",
    "\n",
    "NN_training_channels_dict['wjets'].make_reweighted_plots(variables_to_plot, yscale_type, num_bins_plotting)\n"
   ]
  },
  {
   "cell_type": "code",
   "execution_count": null,
   "id": "595a55e2-7979-4846-a99c-73f9d5a26043",
   "metadata": {},
   "outputs": [],
   "source": [
    "variables_to_plot=['lepton_eta']\n",
    "yscale_type='log'\n",
    "num_bins_plotting=21\n",
    "\n",
    "NN_training_channels_dict['wjets'].make_reweighted_plots(variables_to_plot, yscale_type, num_bins_plotting)\n"
   ]
  },
  {
   "cell_type": "code",
   "execution_count": null,
   "id": "7317aa4d-5f61-4cd9-beac-b5f8ffdc11bb",
   "metadata": {},
   "outputs": [],
   "source": [
    "variables_to_plot=['H_T']\n",
    "yscale_type='log'\n",
    "num_bins_plotting=21\n",
    "\n",
    "NN_training_channels_dict['wjets'].make_reweighted_plots(variables_to_plot, yscale_type, num_bins_plotting)\n"
   ]
  },
  {
   "cell_type": "code",
   "execution_count": null,
   "id": "5a95e67d-f366-495e-b9ee-207db6514f94",
   "metadata": {},
   "outputs": [],
   "source": [
    "variables_to_plot=['presel_score']\n",
    "yscale_type='log'\n",
    "num_bins_plotting=21\n",
    "\n",
    "NN_training_channels_dict['wjets'].make_reweighted_plots(variables_to_plot, yscale_type, num_bins_plotting)\n"
   ]
  },
  {
   "cell_type": "code",
   "execution_count": null,
   "id": "a5b6a078-e30e-426b-96ce-6d14d0fd1271",
   "metadata": {},
   "outputs": [],
   "source": [
    "NN_training_channels_dict['wjets'].evaluate_and_save_ratios(dataset)\n"
   ]
  },
  {
   "cell_type": "code",
   "execution_count": null,
   "id": "615acf8c-6fb5-42f1-aa94-ba7b4477482a",
   "metadata": {},
   "outputs": [],
   "source": [
    "# Choose ttbar as the reference hypothesis\n",
    "dataset_ch_single_top_t_chan_ref = pd.concat([dataset[dataset['type']=='single_top_t_chan'], \n",
    "                                  dataset[dataset['type']=='ttbar']])\n",
    "\n",
    "dataset_ch_single_top_t_chan_ref['train_labels'] = 0\n",
    "dataset_ch_single_top_t_chan_ref.loc[dataset_ch_single_top_t_chan_ref['type']=='ttbar', 'train_labels'] = 1\n"
   ]
  },
  {
   "cell_type": "code",
   "execution_count": null,
   "id": "e7033b79-714b-4ade-9f37-cb52a5764064",
   "metadata": {},
   "outputs": [],
   "source": [
    "\n",
    "rnd_seed_traintestsplit = 42\n",
    "channel_names = ['single_top_t_chan', 'ttbar']\n",
    "\n",
    "# Save paths\n",
    "output_dir = './output_general_singletop/'\n",
    "output_name = 'first_training_singletop'\n",
    "path_to_ratios = './output_ratios_singletop/'\n",
    "path_to_figures = './output_figures_singletop/'\n",
    "path_to_models = './output_model_params_singletop/'\n",
    "\n",
    "\n",
    "\n",
    "importlib.reload(sys.modules['common_utils.training'])\n",
    "from common_utils.training import TrainEvaluate_NN\n",
    "\n",
    "# Initialize the training class\n",
    "NN_training_channels_dict['singletop'] = TrainEvaluate_NN(dataset_ch_single_top_t_chan_ref, \n",
    "                               dataset_ch_single_top_t_chan_ref['weights_normed'],\n",
    "                               dataset_ch_single_top_t_chan_ref['train_labels'],\n",
    "                               columns, \n",
    "                               columns_scaling, rnd_seed_traintestsplit, \n",
    "                               channel_names, output_dir, output_name, \n",
    "                                path_to_figures=path_to_figures,\n",
    "                                path_to_ratios=path_to_ratios, \n",
    "                                path_to_models=path_to_models)\n",
    "\n"
   ]
  },
  {
   "cell_type": "code",
   "execution_count": null,
   "id": "3deb7f2a-12f6-44bf-942c-82cb6c86f74a",
   "metadata": {
    "scrolled": true
   },
   "outputs": [],
   "source": [
    "# Train the density ratio NN\n",
    "NN_training_channels_dict['singletop'].train(hidden_layers=4, \n",
    "                        neurons=1000, \n",
    "                        number_of_epochs=70, \n",
    "                        batch_size=1024, \n",
    "                        learning_rate=0.1, \n",
    "                        scalerType='MinMax', \n",
    "                        calibration=False, \n",
    "                        num_bins_cal = 10, \n",
    "                        callback=True, \n",
    "                        callback_patience=30, \n",
    "                        callback_factor=0.01)    \n"
   ]
  },
  {
   "cell_type": "code",
   "execution_count": null,
   "id": "9fb20452-c2c9-49c4-830d-d963b02c0e1c",
   "metadata": {},
   "outputs": [],
   "source": [
    "NN_training_channels_dict['singletop'].make_overfit_plots()"
   ]
  },
  {
   "cell_type": "code",
   "execution_count": null,
   "id": "bffd6305-f9c6-45aa-8499-5c3344e11f36",
   "metadata": {},
   "outputs": [],
   "source": [
    "num_bins_cal = 50\n",
    "NN_training_channels_dict['singletop'].make_calib_plots(nbins=num_bins_cal, observable='score')"
   ]
  },
  {
   "cell_type": "code",
   "execution_count": null,
   "id": "5e79a244-5bb7-493e-b4a8-e3418717bdd0",
   "metadata": {},
   "outputs": [],
   "source": [
    "NN_training_channels_dict['singletop'].make_calib_plots(nbins=num_bins_cal, observable='llr')\n"
   ]
  },
  {
   "cell_type": "code",
   "execution_count": null,
   "id": "f2f2bf60-45b1-4b15-8c77-871ab3c80680",
   "metadata": {},
   "outputs": [],
   "source": [
    "variables_to_plot=['lepton_pt']\n",
    "yscale_type='log'\n",
    "num_bins_plotting=21\n",
    "\n",
    "NN_training_channels_dict['singletop'].make_reweighted_plots(variables_to_plot, yscale_type, num_bins_plotting)\n"
   ]
  },
  {
   "cell_type": "code",
   "execution_count": null,
   "id": "5328e15b-f920-47fe-95ea-373d44c4e288",
   "metadata": {},
   "outputs": [],
   "source": [
    "variables_to_plot=['lepton_phi']\n",
    "yscale_type='log'\n",
    "num_bins_plotting=21\n",
    "\n",
    "NN_training_channels_dict['singletop'].make_reweighted_plots(variables_to_plot, yscale_type, num_bins_plotting)\n"
   ]
  },
  {
   "cell_type": "code",
   "execution_count": null,
   "id": "1447238b-69dc-43ab-b7e0-d5ddcb192a23",
   "metadata": {},
   "outputs": [],
   "source": [
    "variables_to_plot=['lepton_eta']\n",
    "yscale_type='log'\n",
    "num_bins_plotting=21\n",
    "\n",
    "NN_training_channels_dict['singletop'].make_reweighted_plots(variables_to_plot, yscale_type, num_bins_plotting)\n"
   ]
  },
  {
   "cell_type": "code",
   "execution_count": null,
   "id": "b4912df2-6b41-4315-92f8-63cfe6055d07",
   "metadata": {},
   "outputs": [],
   "source": [
    "variables_to_plot=['H_T']\n",
    "yscale_type='log'\n",
    "num_bins_plotting=21\n",
    "\n",
    "NN_training_channels_dict['singletop'].make_reweighted_plots(variables_to_plot, yscale_type, num_bins_plotting)\n"
   ]
  },
  {
   "cell_type": "code",
   "execution_count": null,
   "id": "f4671b97-e867-414d-8884-3ee1f6df250a",
   "metadata": {},
   "outputs": [],
   "source": [
    "variables_to_plot=['presel_score']\n",
    "yscale_type='log'\n",
    "num_bins_plotting=21\n",
    "\n",
    "NN_training_channels_dict['singletop'].make_reweighted_plots(variables_to_plot, yscale_type, num_bins_plotting)\n"
   ]
  },
  {
   "cell_type": "code",
   "execution_count": null,
   "id": "891bd136-e59f-49a5-a853-073482a8e33a",
   "metadata": {},
   "outputs": [],
   "source": [
    "NN_training_channels_dict['singletop'].evaluate_and_save_ratios(dataset)\n"
   ]
  },
  {
   "cell_type": "code",
   "execution_count": null,
   "id": "82d31292-16c2-48e6-9e1e-6ad9bb88db61",
   "metadata": {},
   "outputs": [],
   "source": [
    "# backup code for updating class methods \n",
    "importlib.reload(sys.modules['common_utils.training'])\n",
    "from common_utils.training import TrainEvaluate_NN\n",
    "import types\n",
    "\n",
    "NN_training_channels_dict['wjets'].make_reweighted_plots = types.MethodType(TrainEvaluate_NN.make_reweighted_plots, NN_training_channels_dict['wjets'])\n",
    "NN_training_channels_dict['wjets'].make_calib_plots = types.MethodType(TrainEvaluate_NN.make_calib_plots, NN_training_channels_dict['wjets'])\n",
    "NN_training_channels_dict['wjets'].evaluate_and_save_ratios = types.MethodType(TrainEvaluate_NN.evaluate_and_save_ratios, NN_training_channels_dict['wjets'])\n",
    "NN_training_channels_dict['wjets'].make_overfit_plots = types.MethodType(TrainEvaluate_NN.make_overfit_plots, NN_training_channels_dict['wjets'])\n"
   ]
  },
  {
   "cell_type": "code",
   "execution_count": null,
   "id": "ff0fe75c-e195-44fb-b9af-3a9ef847e487",
   "metadata": {},
   "outputs": [],
   "source": []
  },
  {
   "cell_type": "code",
   "execution_count": null,
   "id": "3eb627d0-04c4-4378-89de-6d238294eaff",
   "metadata": {},
   "outputs": [],
   "source": []
  },
  {
   "cell_type": "code",
   "execution_count": null,
   "id": "cd4b6f7a-eda1-4ca8-848a-40804f8266f9",
   "metadata": {},
   "outputs": [],
   "source": []
  },
  {
   "cell_type": "code",
   "execution_count": null,
   "id": "f7a54e07-6264-4da4-8212-3d4fe00e703a",
   "metadata": {},
   "outputs": [],
   "source": []
  },
  {
   "cell_type": "code",
   "execution_count": null,
   "id": "0180b5ca-7382-468d-b848-a3a4a30448e1",
   "metadata": {},
   "outputs": [],
   "source": []
  },
  {
   "cell_type": "code",
   "execution_count": null,
   "id": "85346723-e5b2-4c0b-a9e2-873ef7b2172c",
   "metadata": {},
   "outputs": [],
   "source": []
  },
  {
   "cell_type": "code",
   "execution_count": null,
   "id": "3f97d88a-0ff4-482a-86bd-b4fe212843da",
   "metadata": {},
   "outputs": [],
   "source": []
  }
 ],
 "metadata": {
  "kernelspec": {
   "display_name": "Python 3 (ipykernel)",
   "language": "python",
   "name": "python3"
  },
  "language_info": {
   "codemirror_mode": {
    "name": "ipython",
    "version": 3
   },
   "file_extension": ".py",
   "mimetype": "text/x-python",
   "name": "python",
   "nbconvert_exporter": "python",
   "pygments_lexer": "ipython3",
   "version": "3.8.10"
  }
 },
 "nbformat": 4,
 "nbformat_minor": 5
}
