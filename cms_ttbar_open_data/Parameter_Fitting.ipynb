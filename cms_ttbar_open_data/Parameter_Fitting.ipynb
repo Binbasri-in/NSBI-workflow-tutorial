{
 "cells": [
  {
   "cell_type": "code",
   "execution_count": 12,
   "id": "c0e93500-7a31-4aed-8fec-876e95144d25",
   "metadata": {},
   "outputs": [],
   "source": [
    "import os, sys, importlib\n",
    "sys.path.append('../')\n",
    "\n",
    "import common_utils\n",
    "from common_utils import plotting, training\n",
    "import glob\n",
    "import numpy as np\n",
    "import pandas as pd\n",
    "from sklearn.model_selection import train_test_split\n",
    "from sklearn.preprocessing import StandardScaler, OneHotEncoder, MinMaxScaler\n",
    "from tensorflow.keras.optimizers import Nadam\n",
    "import mplhep as hep\n",
    "import matplotlib.pyplot as plt\n",
    "hep.style.use(hep.style.ATLAS)\n"
   ]
  },
  {
   "cell_type": "code",
   "execution_count": 8,
   "id": "dfeaa3c6-560a-46fd-ac40-13ebb6877300",
   "metadata": {},
   "outputs": [
    {
     "name": "stdout",
     "output_type": "stream",
     "text": [
      "expected ttbar yield = 4827143.199423024 events\n",
      "expected single top yield = 293316.6674714682\n",
      "expected wjets yield = 22259892.766995974\n"
     ]
    }
   ],
   "source": [
    "saved_data = './cached_data/'\n",
    "\n",
    "dataset = pd.read_hdf(f\"{saved_data}dataset_preselected_ttbar.h5\", key=\"dataset\", mode='r')\n",
    "\n",
    "mask_ttbar = dataset.type=='ttbar'\n",
    "mask_singletop = dataset.type=='single_top_t_chan'\n",
    "mask_wjets = dataset.type=='wjets'\n",
    "\n",
    "# mask that extracts the expected Asimov dataset - \n",
    "# trivially the full dataset for the ttbar dataset used here, \n",
    "# but not generally true\n",
    "mask_Asimov = (dataset.type=='ttbar') | (dataset.type=='single_top_t_chan') | (dataset.type=='wjets')\n",
    "\n",
    "dataset_ttbar = dataset[mask_ttbar].copy()\n",
    "dataset_single_top = dataset[mask_singletop].copy()\n",
    "dataset_wjets = dataset[mask_wjets].copy()\n",
    "\n",
    "nu_ttbar = dataset_ttbar.weights.sum()\n",
    "print(f\"expected ttbar yield = {nu_ttbar} events\")\n",
    "\n",
    "nu_singletop = dataset_single_top.weights.sum()\n",
    "print(f\"expected single top yield = {nu_singletop}\")\n",
    "\n",
    "nu_wjets = dataset_wjets.weights.sum()\n",
    "print(f\"expected wjets yield = {nu_wjets}\")"
   ]
  },
  {
   "cell_type": "code",
   "execution_count": 14,
   "id": "f14e6af3-17ec-4823-9d78-5519585f5849",
   "metadata": {},
   "outputs": [],
   "source": [
    "path_to_ratios_wjets = './output_ratios_wjets/'\n",
    "path_to_ratios_singletop = './output_ratios_singletop/'\n",
    "\n",
    "files_wjets = glob.glob(f\"{path_to_ratios_wjets}ratio_*.npy\")\n",
    "files_singletop = glob.glob(f\"{path_to_ratios_singletop}ratio_*.npy\")\n",
    "\n",
    "r_wjets_ttbar = np.load(files_wjets[0])\n",
    "r_singletop_ttbar = np.load(files_singletop[0])\n"
   ]
  },
  {
   "cell_type": "code",
   "execution_count": null,
   "id": "3037806b-1977-415c-8c86-7b4e72eea311",
   "metadata": {},
   "outputs": [],
   "source": []
  }
 ],
 "metadata": {
  "kernelspec": {
   "display_name": "Python 3 (ipykernel)",
   "language": "python",
   "name": "python3"
  },
  "language_info": {
   "codemirror_mode": {
    "name": "ipython",
    "version": 3
   },
   "file_extension": ".py",
   "mimetype": "text/x-python",
   "name": "python",
   "nbconvert_exporter": "python",
   "pygments_lexer": "ipython3",
   "version": "3.8.10"
  }
 },
 "nbformat": 4,
 "nbformat_minor": 5
}
