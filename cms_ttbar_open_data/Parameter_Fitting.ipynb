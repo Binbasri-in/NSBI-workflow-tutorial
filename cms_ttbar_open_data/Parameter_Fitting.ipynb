{
 "cells": [
  {
   "cell_type": "code",
   "execution_count": 1,
   "id": "c0e93500-7a31-4aed-8fec-876e95144d25",
   "metadata": {},
   "outputs": [
    {
     "name": "stderr",
     "output_type": "stream",
     "text": [
      "/data/jaySandesara/NSBI_workflow_tutorial/cms_ttbar_open_data/../common_utils/plotting.py:10: FutureWarning: ``set_style`` is deprecated: Naming convention is changing to match mpl. Use ``mplhep.style.use()``.\n",
      "  hep.set_style(\"ATLAS\")\n",
      "2025-02-10 10:57:37.329111: I tensorflow/core/platform/cpu_feature_guard.cc:182] This TensorFlow binary is optimized to use available CPU instructions in performance-critical operations.\n",
      "To enable the following instructions: AVX2 FMA, in other operations, rebuild TensorFlow with the appropriate compiler flags.\n",
      "2025-02-10 10:57:38.447712: W tensorflow/compiler/tf2tensorrt/utils/py_utils.cc:38] TF-TRT Warning: Could not find TensorRT\n"
     ]
    }
   ],
   "source": [
    "import os, sys, importlib\n",
    "sys.path.append('../')\n",
    "\n",
    "import common_utils\n",
    "from common_utils import plotting, training\n",
    "import glob\n",
    "import numpy as np\n",
    "import pandas as pd\n",
    "from sklearn.model_selection import train_test_split\n",
    "from sklearn.preprocessing import StandardScaler, OneHotEncoder, MinMaxScaler\n",
    "from tensorflow.keras.optimizers import Nadam\n",
    "import mplhep as hep\n",
    "import matplotlib.pyplot as plt\n",
    "hep.style.use(hep.style.ATLAS)\n"
   ]
  },
  {
   "cell_type": "code",
   "execution_count": 22,
   "id": "dfeaa3c6-560a-46fd-ac40-13ebb6877300",
   "metadata": {},
   "outputs": [
    {
     "name": "stdout",
     "output_type": "stream",
     "text": [
      "expected ttbar yield = 4827143.199423024 events\n",
      "expected single top yield = 293316.6674714682\n",
      "expected wjets yield = 22259892.766995974\n"
     ]
    }
   ],
   "source": [
    "saved_data = './cached_data/'\n",
    "\n",
    "dataset = pd.read_hdf(f\"{saved_data}dataset_preselected_ttbar.h5\", key=\"dataset\", mode='r')\n",
    "\n",
    "mask_ttbar = dataset.type=='ttbar'\n",
    "mask_singletop = dataset.type=='single_top_t_chan'\n",
    "mask_wjets = dataset.type=='wjets'\n",
    "\n",
    "# mask that extracts the expected Asimov dataset - \n",
    "# trivially the full dataset for the ttbar dataset used here, \n",
    "# but not generally true\n",
    "mask_Asimov = (dataset.type=='ttbar') | (dataset.type=='single_top_t_chan') | (dataset.type=='wjets')\n",
    "weights_Asimov = dataset[mask_Asimov].weights.ravel()\n",
    "\n",
    "dataset_ttbar = dataset[mask_ttbar].copy()\n",
    "dataset_single_top = dataset[mask_singletop].copy()\n",
    "dataset_wjets = dataset[mask_wjets].copy()\n",
    "\n",
    "nu_ttbar = dataset_ttbar.weights.sum()\n",
    "print(f\"expected ttbar yield = {nu_ttbar} events\")\n",
    "\n",
    "nu_singletop = dataset_single_top.weights.sum()\n",
    "print(f\"expected single top yield = {nu_singletop}\")\n",
    "\n",
    "nu_wjets = dataset_wjets.weights.sum()\n",
    "print(f\"expected wjets yield = {nu_wjets}\")"
   ]
  },
  {
   "cell_type": "code",
   "execution_count": 29,
   "id": "f14e6af3-17ec-4823-9d78-5519585f5849",
   "metadata": {},
   "outputs": [],
   "source": [
    "path_to_ratios_wjets = './output_ratios_wjets/'\n",
    "path_to_ratios_singletop = './output_ratios_singletop/'\n",
    "\n",
    "files_wjets = glob.glob(f\"{path_to_ratios_wjets}ratio_*.npy\")\n",
    "files_singletop = glob.glob(f\"{path_to_ratios_singletop}ratio_*bs512*.npy\")\n",
    "\n",
    "ratios = {}\n",
    "ratios['wjets'] = np.load(files_wjets[0])[mask_Asimov]\n",
    "ratios['singletop'] = np.load(files_singletop[0])[mask_Asimov]\n",
    "ratios['ttbar'] = np.ones_like(ratios['wjets'])[mask_Asimov]\n"
   ]
  },
  {
   "cell_type": "code",
   "execution_count": 24,
   "id": "d2bcc1a1-d09f-4cc4-b928-496969009e3f",
   "metadata": {},
   "outputs": [
    {
     "data": {
      "text/plain": [
       "array([0.9780628 , 0.93577087, 1.0188538 , ..., 1.1785129 , 0.9235641 ,\n",
       "       0.9738464 ], dtype=float32)"
      ]
     },
     "execution_count": 24,
     "metadata": {},
     "output_type": "execute_result"
    }
   ],
   "source": [
    "ratios['singletop']\n"
   ]
  },
  {
   "cell_type": "code",
   "execution_count": 21,
   "id": "0f6331e5-ce81-485e-a153-05c2d56f10fb",
   "metadata": {},
   "outputs": [
    {
     "data": {
      "text/plain": [
       "array([0.96204007, 0.92525095, 1.0049189 , ..., 1.2356523 , 0.91345817,\n",
       "       0.95681095], dtype=float32)"
      ]
     },
     "execution_count": 21,
     "metadata": {},
     "output_type": "execute_result"
    }
   ],
   "source": [
    "ratios['singletop']"
   ]
  },
  {
   "cell_type": "code",
   "execution_count": 32,
   "id": "3037806b-1977-415c-8c86-7b4e72eea311",
   "metadata": {},
   "outputs": [],
   "source": [
    "# Build the model\n",
    "\n",
    "# Get the weight vector corresponding to a given mu hypothesis\n",
    "def dataset_mu_morph_weights(dataset, mu):\n",
    "\n",
    "    weights_morphing =  dataset['weights'].ravel()\n",
    "    weights_morphing[dataset.type=='ttbar'] *= mu\n",
    "\n",
    "    return weights_morphing\n",
    "\n",
    "# rate term\n",
    "def nu(mu):\n",
    "\n",
    "    nu = mu * nu_ttbar + nu_singletop + nu_wjets\n",
    "\n",
    "    return nu\n",
    "\n",
    "\n",
    "# per event term\n",
    "def log_ratio_mu(mu):\n",
    "\n",
    "    dnu_mu = mu * nu_ttbar * ratios['ttbar'][mask_Asimov]\\\n",
    "                + nu_singletop * ratios['singletop'][mask_Asimov]\\\n",
    "                + nu_wjets * ratios['wjets'][mask_Asimov]\n",
    "\n",
    "    return np.log( dnu_mu / nu(mu) ) \n",
    "\n",
    "# The full NLL function\n",
    "def full_nll_function(mu, mu_Asimov=1.0):\n",
    "\n",
    "    pois_llr = -2 * nu(mu_Asimov) * np.log(nu(mu)) + 2 * nu(mu)\n",
    "    nsbi_llr = -2 * np.sum(np.multiply(weights_Asimov, log_ratio_mu(mu)))\n",
    "\n",
    "    return pois_llr + nsbi_llr"
   ]
  },
  {
   "cell_type": "code",
   "execution_count": 36,
   "id": "59467ad1-cfa7-4d65-8b36-53e66b668dc2",
   "metadata": {},
   "outputs": [],
   "source": [
    "# Normally we use minuit for this step - but this is a quick first draft script \n",
    "mu_scan_range = np.linspace(0.0, 3.0, num=100)\n",
    "\n",
    "tmu_arr = np.zeros_like(mu_scan_range)\n",
    "\n",
    "for count, mu in enumerate(mu_scan_range):\n",
    "    tmu_arr[count] = full_nll_function(mu)"
   ]
  },
  {
   "cell_type": "code",
   "execution_count": 37,
   "id": "356a36ee-40a6-4083-b5b6-83b841c1f361",
   "metadata": {},
   "outputs": [],
   "source": [
    "tmu_arr -= np.amin(tmu_arr)"
   ]
  },
  {
   "cell_type": "code",
   "execution_count": 38,
   "id": "84b6d539-f0c2-4ea4-94fd-b94ca721f846",
   "metadata": {},
   "outputs": [
    {
     "data": {
      "text/plain": [
       "(0.0, 3.0, 0.0, 6000000.0)"
      ]
     },
     "execution_count": 38,
     "metadata": {},
     "output_type": "execute_result"
    },
    {
     "data": {
      "image/png": "[encoded data removed]",
      "text/plain": [
       "<Figure size 800x600 with 1 Axes>"
      ]
     },
     "metadata": {},
     "output_type": "display_data"
    }
   ],
   "source": [
    "plt.plot(mu_scan_range, tmu_arr)\n",
    "plt.axis(ymin=0.0)"
   ]
  },
  {
   "cell_type": "code",
   "execution_count": null,
   "id": "b9168319-78a4-480b-a650-e4cf56da58d9",
   "metadata": {},
   "outputs": [],
   "source": []
  },
  {
   "cell_type": "code",
   "execution_count": null,
   "id": "bdd8cd90-e3da-4b25-a658-cfb1c40d3819",
   "metadata": {},
   "outputs": [],
   "source": []
  },
  {
   "cell_type": "code",
   "execution_count": null,
   "id": "a487a887-00e6-4e02-b6ec-31dfab47055e",
   "metadata": {},
   "outputs": [],
   "source": []
  },
  {
   "cell_type": "code",
   "execution_count": null,
   "id": "b0004536-1e92-44bc-9f7f-c21e5b6f01c3",
   "metadata": {},
   "outputs": [],
   "source": []
  },
  {
   "cell_type": "code",
   "execution_count": null,
   "id": "85ed3eee-1d64-41b3-92f4-451a348cdb11",
   "metadata": {},
   "outputs": [],
   "source": []
  }
 ],
 "metadata": {
  "kernelspec": {
   "display_name": "Python 3 (ipykernel)",
   "language": "python",
   "name": "python3"
  },
  "language_info": {
   "codemirror_mode": {
    "name": "ipython",
    "version": 3
   },
   "file_extension": ".py",
   "mimetype": "text/x-python",
   "name": "python",
   "nbconvert_exporter": "python",
   "pygments_lexer": "ipython3",
   "version": "3.8.10"
  }
 },
 "nbformat": 4,
 "nbformat_minor": 5
}
