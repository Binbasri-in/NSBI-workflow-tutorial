{
 "cells": [
  {
   "cell_type": "markdown",
   "id": "85242300-60a2-467d-9f11-8af27bdc312a",
   "metadata": {},
   "source": [
    "Train Neural Networks to estimate Likelihood Ratios\n",
    "===\n",
    "\n",
    "In this notebook we will setup the neural networks that train unbiased and low-variance density ratios to be then used for inference. The statistical model we have is: \n",
    "\n",
    "<Need to add equations - latex doesnt work here?>"
   ]
  },
  {
   "cell_type": "code",
   "execution_count": null,
   "id": "1051f14a-0104-418b-9e43-6edcdcd07df2",
   "metadata": {},
   "outputs": [],
   "source": []
  }
 ],
 "metadata": {
  "kernelspec": {
   "display_name": "Python 3 (ipykernel)",
   "language": "python",
   "name": "python3"
  },
  "language_info": {
   "codemirror_mode": {
    "name": "ipython",
    "version": 3
   },
   "file_extension": ".py",
   "mimetype": "text/x-python",
   "name": "python",
   "nbconvert_exporter": "python",
   "pygments_lexer": "ipython3",
   "version": "3.8.16"
  }
 },
 "nbformat": 4,
 "nbformat_minor": 5
}
