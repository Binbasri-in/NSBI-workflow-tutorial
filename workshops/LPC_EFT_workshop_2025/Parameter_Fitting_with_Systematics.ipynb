{
 "cells": [
  {
   "cell_type": "markdown",
   "id": "5d9cfa3b-cad6-499e-b82d-8bf599925d51",
   "metadata": {},
   "source": [
    "Parameter Fitting\n",
    "===\n",
    "\n",
    "Having trained the density ratios in the `Neural_Likelihood_Ratio_Estimation.ipynb` notebook, we are ready for the final parameter fitting step of the workflow.\n",
    "\n",
    "We defined Signal Region (SR) and Control Region (CR) channels in the `Neural_Likelihood_Ratio_Estimation.ipynb` notebook, using a preselection NN that isolates signal-rich phase space for the NSBI fitting, with a background-rich phase space used for detailed validations as well as constraining background parameters. We also isolated a Binned Signal Region where the signal cross-section dominated that of the background, for a binned Poisson fit to further boost sensitivity in poorly modeled, but signal-dominant, phase space."
   ]
  },
  {
   "cell_type": "code",
   "execution_count": 2,
   "id": "c0e93500-7a31-4aed-8fec-876e95144d25",
   "metadata": {},
   "outputs": [
    {
     "name": "stderr",
     "output_type": "stream",
     "text": [
      "/home/jsandesara_umass_edu/.conda/envs/NSBI/lib/python3.11/site-packages/nsbi_common_utils/plotting.py:11: FutureWarning: ``set_style`` is deprecated: Naming convention is changing to match mpl. Use ``mplhep.style.use()``.\n",
      "  hep.set_style(\"ATLAS\")\n",
      "2025-06-27 14:12:03.996558: I tensorflow/core/util/port.cc:153] oneDNN custom operations are on. You may see slightly different numerical results due to floating-point round-off errors from different computation orders. To turn them off, set the environment variable `TF_ENABLE_ONEDNN_OPTS=0`.\n",
      "2025-06-27 14:12:04.027606: E external/local_xla/xla/stream_executor/cuda/cuda_fft.cc:477] Unable to register cuFFT factory: Attempting to register factory for plugin cuFFT when one has already been registered\n",
      "WARNING: All log messages before absl::InitializeLog() is called are written to STDERR\n",
      "E0000 00:00:1751033524.046900 1251501 cuda_dnn.cc:8310] Unable to register cuDNN factory: Attempting to register factory for plugin cuDNN when one has already been registered\n",
      "E0000 00:00:1751033524.052400 1251501 cuda_blas.cc:1418] Unable to register cuBLAS factory: Attempting to register factory for plugin cuBLAS when one has already been registered\n",
      "2025-06-27 14:12:04.070862: I tensorflow/core/platform/cpu_feature_guard.cc:210] This TensorFlow binary is optimized to use available CPU instructions in performance-critical operations.\n",
      "To enable the following instructions: AVX2 AVX512F AVX512_VNNI FMA, in other operations, rebuild TensorFlow with the appropriate compiler flags.\n"
     ]
    }
   ],
   "source": [
    "import os, sys, importlib\n",
    "\n",
    "import nsbi_common_utils\n",
    "from nsbi_common_utils import plotting, training, inference\n",
    "import glob\n",
    "import numpy as np\n",
    "\n",
    "import jax\n",
    "import jax.numpy as jnp\n",
    "jax.config.update(\"jax_enable_x64\", True)\n",
    "\n",
    "import pandas as pd\n",
    "from sklearn.model_selection import train_test_split\n",
    "from sklearn.preprocessing import StandardScaler, OneHotEncoder, MinMaxScaler\n",
    "import tensorflow as tf\n",
    "tf.get_logger().setLevel('ERROR')\n",
    "from tensorflow.keras.optimizers import Nadam\n",
    "import mplhep as hep\n",
    "import pickle\n",
    "import matplotlib.pyplot as plt\n",
    "import yaml\n",
    "\n",
    "from nsbi_common_utils.inference import nsbi_inference\n",
    "\n",
    "import warnings\n",
    "warnings.filterwarnings(\"ignore\", category=RuntimeWarning)\n",
    "\n",
    "hep.style.use(hep.style.ATLAS)"
   ]
  },
  {
   "cell_type": "code",
   "execution_count": 3,
   "id": "2911a387-09ea-44da-ad82-f19e960a9129",
   "metadata": {},
   "outputs": [],
   "source": [
    "with open(\"config.yml\", \"r\") as f:\n",
    "    config = yaml.safe_load(f)"
   ]
  },
  {
   "cell_type": "code",
   "execution_count": 4,
   "id": "dfeaa3c6-560a-46fd-ac40-13ebb6877300",
   "metadata": {},
   "outputs": [
    {
     "name": "stdout",
     "output_type": "stream",
     "text": [
      "['SR_binned', 'CR']\n",
      "['SR']\n"
     ]
    }
   ],
   "source": [
    "# path prefix for general save directory\n",
    "path_prefix = config['path_prefix']\n",
    "\n",
    "# sub-path for saving cached data used between modules\n",
    "path_saved_data = config['path_saved_data']\n",
    "saved_data = f'{path_prefix}{path_saved_data}'\n",
    "\n",
    "\n",
    "# Get the dictionary of labels to processes\n",
    "labels_dict = config[\"labels_dict\"]\n",
    "\n",
    "# Signal processes in the model\n",
    "signal_processeses = config[\"signal_processes\"]\n",
    "\n",
    "# Background processes in the model\n",
    "background_processes = config[\"background_processes\"]\n",
    "\n",
    "mix_model_hypotheses = config[\"mix_model_hypotheses\"]\n",
    "ref_processes = config[\"ref_processes\"]\n",
    "\n",
    "all_process = signal_processeses + background_processes\n",
    "\n",
    "channels_binned = config[\"channels_binned\"]\n",
    "channels_unbinned = config[\"channels_unbinned\"]\n",
    "\n",
    "print(channels_binned)\n",
    "print(channels_unbinned)"
   ]
  },
  {
   "cell_type": "code",
   "execution_count": null,
   "id": "b2b11240-e39f-43f8-971d-97a8424d7084",
   "metadata": {},
   "outputs": [],
   "source": [
    "# Load the nominal dataset for evaluation\n",
    "dataset = pd.read_hdf(f\"{saved_data}dataset_preselected_nominal_SR.h5\", key=\"dataset\", mode='r')\n",
    "\n",
    "mask_processes = {}\n",
    "for process_type in all_process:\n",
    "    mask_processes[process_type] = dataset.type==process_type\n",
    "\n",
    "# Mask that extracts the expected Asimov dataset\n",
    "process_asimov = all_process\n",
    "\n",
    "mask_Asimov = np.logical_or.reduce([mask_processes[process_type] for process_type in process_asimov])\n",
    "weights_Asimov = jnp.array(dataset[mask_Asimov].weights.ravel())"
   ]
  },
  {
   "cell_type": "code",
   "execution_count": null,
   "id": "15158bde-85fb-4cc8-8c4d-c6fae12bfe6e",
   "metadata": {},
   "outputs": [],
   "source": [
    "path_to_dict_systs = f\"{saved_data}dict_systs.npy\"\n",
    "\n",
    "# Check if user has provided uncertainty NPs\n",
    "if \"dict_systs\" in config:\n",
    "    dict_systs = config[\"dict_systs\"]\n",
    "    # Load the SR yield variations\n",
    "    with open(f\"{saved_data}yield_SR_variations.pkl\", \"rb\") as fp:\n",
    "        nu_var_SR = pickle.load(fp)\n",
    "    # Save the Control Region variation histogram\n",
    "    with open(f\"{saved_data}hist_binned_variations.pkl\", \"rb\") as fp:\n",
    "        hist_variations = pickle.load(fp)\n",
    "else:\n",
    "    dict_systs = {} # No systematics\n",
    "\n",
    "# Full list of systematics\n",
    "list_syst = [key for key in dict_systs]\n",
    "\n",
    "print(list_syst)"
   ]
  },
  {
   "cell_type": "markdown",
   "id": "5d7e989f-c6c0-416a-8bb3-454f969da639",
   "metadata": {},
   "source": [
    "Parameters in the fit\n",
    "-\n",
    "\n",
    "In the model we are fitting in this notebook, we introduce floating parameters associated with background normalization: \n",
    "\n",
    "$$\\sum_c f_c(\\mu) \\cdot \\nu_c  \\cdot \\frac{p_c\\left(x\\right)}{p_{ref}(x)} = \\mu_{higgs} \\cdot \\nu_{H \\to \\tau\\tau}(\\mu) \\cdot  \\frac{p_{H \\to \\tau\\tau}\\left(x\\right)}{p_{ref}(x)} + \\mu_{t\\bar{t}} \\cdot \\nu_{t\\bar{t}}(\\mu) \\cdot  \\frac{p_{t\\bar{t}}\\left(x\\right)}{p_{ref}(x)} + \\mu_{Z} \\cdot \\nu_{Z \\to \\tau\\tau}(\\mu) \\cdot  \\frac{p_{Z \\to \\tau\\tau}\\left(x\\right)}{p_{ref}(x)}$$\n",
    "\n",
    "This is reflected in the metadata from the config file, in the list of unconstrained parameters, and where each process in the model is taken to be a floating process:"
   ]
  },
  {
   "cell_type": "code",
   "execution_count": null,
   "id": "e48019cd-27ca-468a-9c41-e5b15d03cfda",
   "metadata": {},
   "outputs": [],
   "source": [
    "# Total number of unconstrained parameters in the model\n",
    "num_unconstrained_params = config[\"num_unconstrained_params\"]\n",
    "\n",
    "# List of unconstrained parameter labels\n",
    "list_unconstrained_params = config[\"list_unconstrained_params\"]\n",
    "\n",
    "print(list_unconstrained_params)"
   ]
  },
  {
   "cell_type": "code",
   "execution_count": null,
   "id": "c655a0d7-54a4-4bd5-961b-5bf07d7b1a66",
   "metadata": {},
   "outputs": [],
   "source": [
    "process_index = config[\"process_index\"]\n",
    "\n",
    "floating_processes    = config[\"floating_processes\"]\n",
    "fixed_processes       = config[\"fixed_processes\"]\n",
    "\n",
    "print(floating_processes)\n",
    "print(fixed_processes)"
   ]
  },
  {
   "cell_type": "code",
   "execution_count": 70,
   "id": "f0e20915",
   "metadata": {},
   "outputs": [],
   "source": [
    "# Define the full list of parameters to be used in the model\n",
    "list_params_all = list_unconstrained_params + list_syst\n",
    "\n",
    "\n",
    "# Asimov values\n",
    "params_Asimov = jnp.array(np.append(np.array([1.0, 1.0, 1.0]), \n",
    "                                    np.zeros(len(list_syst)) ) )\n"
   ]
  },
  {
   "cell_type": "code",
   "execution_count": 71,
   "id": "680f8528-3083-4a0e-a657-476e83e9d06d",
   "metadata": {},
   "outputs": [],
   "source": [
    "# Get the expected yields corresponding to the various channels\n",
    "hist_channels = {}\n",
    "hist_channels['SR'] = {}\n",
    "\n",
    "for process_type in all_process:\n",
    "    \n",
    "    hist_channels['SR'][process_type]        = dataset[mask_processes[process_type]].weights.sum()\n"
   ]
  },
  {
   "cell_type": "code",
   "execution_count": 74,
   "id": "f14e6af3-17ec-4823-9d78-5519585f5849",
   "metadata": {},
   "outputs": [],
   "source": [
    "# Get the saved density ratios\n",
    "\n",
    "# Save paths\n",
    "top_path = f'{path_prefix}{path_saved_data}output_training_nominal/'\n",
    "\n",
    "ratios = {}\n",
    "ratios['SR'] = {}\n",
    "\n",
    "for process_type in mix_model_hypotheses:\n",
    "\n",
    "    path_to_ratio = f'{top_path}output_ratios_{process_type}/ratio_{process_type}.npy'\n",
    "    ratios['SR'][process_type] = jnp.array(np.load(path_to_ratio)[mask_Asimov])\n",
    "\n",
    "for process in all_process:\n",
    "    if process not in mix_model_hypotheses:\n",
    "        ratios['SR'][process] = jnp.array(np.ones_like(ratios['SR'][mix_model_hypotheses[0]]))\n"
   ]
  },
  {
   "cell_type": "code",
   "execution_count": 75,
   "id": "00b29c86-6ac0-426d-9d2d-94d33b4b31fa",
   "metadata": {},
   "outputs": [
    {
     "name": "stdout",
     "output_type": "stream",
     "text": [
      "{'SR': {'htautau': 844.6183, 'ttbar': 5317.6255, 'ztautau': 339302.88}, 'SR_binned': {'htautau': array([4.7001405], dtype=float32), 'ztautau': array([33.668922], dtype=float32), 'ttbar': array([1.3680663], dtype=float32)}, 'CR': {'htautau': array([3.4308802e-02, 1.9245273e+00, 1.4397985e+01, 1.4372072e+02],\n",
      "      dtype=float32), 'ztautau': array([2.6406991e+00, 2.5416725e+02, 1.9917854e+04, 6.4259150e+05],\n",
      "      dtype=float32), 'ttbar': array([  110.26796,  8016.983  , 20536.422  ,  9058.744  ], dtype=float32)}}\n"
     ]
    }
   ],
   "source": [
    "# Build the \"observed\" histogram for an Asimov dataset\n",
    "hist_channels_data = {}\n",
    "\n",
    "# Total observed events in the SR where we do NSBI (for extended Poisson fit)\n",
    "hist_channels_data['SR'] = np.sum([hist_channels['SR'][process_type] for process_type in process_asimov], axis=0)\n",
    "\n",
    "# Observed Asimov data in all the other binned channels\n",
    "for channel in channels_binned:\n",
    "    with open(f\"{saved_data}hist_binned_{channel}.pkl\", \"rb\") as fp:\n",
    "            hist_channels[channel] = pickle.load(fp)\n",
    "\n",
    "    hist_channels_data[channel] = np.sum([hist_channels[channel][process_type] for process_type in process_asimov], axis=0)\n"
   ]
  },
  {
   "cell_type": "code",
   "execution_count": 76,
   "id": "c601bddb-0a0c-4336-9ebd-bdff9ded7782",
   "metadata": {},
   "outputs": [],
   "source": [
    "# Since we are neglecting systematic uncertainties in this tutorial, we set these variation arrays to None\n",
    "ratio_variations = None\n",
    "hist_channel_variations = None\n",
    "ratios_var_1sigma = None"
   ]
  },
  {
   "cell_type": "markdown",
   "id": "885efffd-b3c2-475d-99db-4c082b72649f",
   "metadata": {},
   "source": [
    "Model for fits\n",
    "-\n",
    "\n",
    "Having processed all the inputs needed, we build the likelihood model in the `nsbi_inference` class of `common_utils/inference.py`:\n",
    "\n",
    "$$\\frac{p(x|\\mu, \\alpha)}{p_{ref}(x)} = \\frac{1}{\\sum_c \\cdot f_c(\\mu) \\cdot \\nu_c} \\sum_c f_c(\\mu) \\cdot \\nu_c  \\cdot \\frac{p_c\\left(x\\right)}{p_{ref}(x)}$$"
   ]
  },
  {
   "cell_type": "code",
   "execution_count": 78,
   "id": "9a570cf3-e4e4-40c5-beb1-db9ff9b6ed15",
   "metadata": {},
   "outputs": [],
   "source": [
    "importlib.reload(sys.modules['nsbi_common_utils.inference'])\n",
    "from nsbi_common_utils.inference import nsbi_inference\n",
    "\n",
    "# Initialize the inference class / module\n",
    "inference_full = nsbi_inference(channels_binned, channels_unbinned, params_Asimov, \n",
    "                                num_unconstrained_params, all_process, fixed_processes, floating_processes, \n",
    "                                process_index, ratios, ratio_variations, weights_Asimov, hist_channels_data, hist_channels, \n",
    "                                hist_channel_variations, list_params_all)"
   ]
  },
  {
   "cell_type": "markdown",
   "id": "61026edd-b497-40f3-8da6-3b23b81f848a",
   "metadata": {},
   "source": [
    "Profiled negative log-likelihood scans\n",
    "===\n",
    "\n",
    "The fitting step involves `iminuit` to minimize the log-likelihood ratio model and build the profile negative log-likelihood test statistic:\n",
    "\n",
    "$$t_\\mu = -2 \\cdot \\frac{\\text{Pois}(\\mathcal{N}_\\text{evts}|\\mu, \\hat{\\hat{\\alpha}})}{\\text{Pois}(\\mathcal{N}_\\text{evts}|\\hat{\\mu}, \\hat{\\alpha})} -2 \\cdot \\sum_i^{\\mathcal{N}_\\text{evts}} w_i \\times \\log \\frac{p(x_i|\\mu, \\hat{\\hat{\\alpha}})/p_{ref}(x)}{p(x_i|\\hat{\\mu}, \\hat{\\alpha})/p_{ref}(x)} + \\sum_m^{N_\\text{systs}} \\alpha_m^2$$\n",
    "\n",
    "The first step is to perform a global fit to find best fit values of all parameters of the model. This is done using `iminuit`:"
   ]
  },
  {
   "cell_type": "code",
   "execution_count": 79,
   "id": "352172be-7ecc-4cb4-b471-3f7f6c3190cb",
   "metadata": {},
   "outputs": [
    {
     "name": "stdout",
     "output_type": "stream",
     "text": [
      "fit: \n",
      " ┌─────────────────────────────────────────────────────────────────────────┐\n",
      "│                                Migrad                                   │\n",
      "├──────────────────────────────────┬──────────────────────────────────────┤\n",
      "│ FCN = -2.576e+07                 │         Nfcn = 68, Ngrad = 1         │\n",
      "│ EDM = 5.07e-06 (Goal: 0.0002)    │            time = 1.7 sec            │\n",
      "├──────────────────────────────────┼──────────────────────────────────────┤\n",
      "│          Valid Minimum           │   Below EDM threshold (goal x 10)    │\n",
      "├──────────────────────────────────┼──────────────────────────────────────┤\n",
      "│      No parameters at limit      │           Below call limit           │\n",
      "├──────────────────────────────────┼──────────────────────────────────────┤\n",
      "│             Hesse ok             │         Covariance accurate          │\n",
      "└──────────────────────────────────┴──────────────────────────────────────┘\n",
      "┌───┬──────────┬───────────┬───────────┬────────────┬────────────┬─────────┬─────────┬───────┐\n",
      "│   │ Name     │   Value   │ Hesse Err │ Minos Err- │ Minos Err+ │ Limit-  │ Limit+  │ Fixed │\n",
      "├───┼──────────┼───────────┼───────────┼────────────┼────────────┼─────────┼─────────┼───────┤\n",
      "│ 0 │ mu_higgs │   0.97    │   0.26    │            │            │         │         │       │\n",
      "│ 1 │ mu_ttbar │   1.004   │   0.007   │            │            │         │         │       │\n",
      "│ 2 │ mu_z     │  0.9998   │  0.0010   │            │            │         │         │       │\n",
      "└───┴──────────┴───────────┴───────────┴────────────┴────────────┴─────────┴─────────┴───────┘\n",
      "┌──────────┬────────────────────────────┐\n",
      "│          │ mu_higgs mu_ttbar     mu_z │\n",
      "├──────────┼────────────────────────────┤\n",
      "│ mu_higgs │    0.068 -0.23e-3 -57.3e-6 │\n",
      "│ mu_ttbar │ -0.23e-3 5.06e-05  -0.9e-6 │\n",
      "│     mu_z │ -57.3e-6  -0.9e-6  1.1e-06 │\n",
      "└──────────┴────────────────────────────┘\n"
     ]
    }
   ],
   "source": [
    "# Perform fit while floating all the NPs\n",
    "inference_full.perform_fit(fit_strategy=2, freeze_params=[])"
   ]
  },
  {
   "cell_type": "markdown",
   "id": "2dabc465-ed0e-42b0-ab05-e9d06f3974e5",
   "metadata": {},
   "source": [
    "Biased fits\n",
    "-\n",
    "\n",
    "So the best-fit value from the toy analysis with Asimov dataset does not converge to the truth value - $\\widehat{\\mu}_{higgs} \\neq \\mu^\\text{truth}_{higgs} = 1.0$.\n",
    "\n",
    "Unlike a binned Poisson likelihood fit, which by definition converges to the truth value for Asimov and has well-defined asymptotic statistical properties - this is not guaranteed in an NSBI analysis.\n",
    "\n",
    "Profile NLL Scan\n",
    "-\n",
    "\n",
    "The next step is to perform a full parameter scan using the test statistic:"
   ]
  },
  {
   "cell_type": "code",
   "execution_count": 80,
   "id": "999ed18c",
   "metadata": {},
   "outputs": [
    {
     "data": {
      "image/png": "[encoded data removed]",
      "text/plain": [
       "<Figure size 800x600 with 1 Axes>"
      ]
     },
     "metadata": {},
     "output_type": "display_data"
    }
   ],
   "source": [
    "inference_full.plot_NLL_scan(parameter_name='mu_higgs', \n",
    "                             parameter_label = r'$\\mu_{higgs}$', \n",
    "                             bound_range=(0.0, 2.5), fit_strategy=2)"
   ]
  },
  {
   "attachments": {},
   "cell_type": "markdown",
   "id": "42f836d2-601b-4092-8652-e12bbed9fc9c",
   "metadata": {},
   "source": [
    "Optimizing the analysis\n",
    "===\n",
    "\n",
    "We saw that the model we built is not perfect - we see biases in the best fit values. **To reduce such biased fits, building ensembles and optimizing preselections are important.**\n",
    "\n",
    "Things that can be optimized for better convergence:\n",
    "\n",
    "- Generate more simulated events for better modelling.\n",
    "- Tighter preselections - removing more of the background-rich phase space $p_{ref}\\sim 0$ that can cause numerical instabilites, removing phase space regions with low Monte Carlo statistics or that are difficult to model, etc.\n",
    "- Add more input features for easier signal-background separation.\n",
    "- Changing the hyperparameters of the various NNs used in the modelling.\n",
    "- Training ensembles of NNs\n",
    "\n",
    "\n",
    "Give it a try and see if you can build a better model!\n",
    "--"
   ]
  }
 ],
 "metadata": {
  "kernelspec": {
   "display_name": "Python [conda env:.conda-NSBI]",
   "language": "python",
   "name": "conda-env-.conda-NSBI-py"
  },
  "language_info": {
   "codemirror_mode": {
    "name": "ipython",
    "version": 3
   },
   "file_extension": ".py",
   "mimetype": "text/x-python",
   "name": "python",
   "nbconvert_exporter": "python",
   "pygments_lexer": "ipython3",
   "version": "3.11.11"
  }
 },
 "nbformat": 4,
 "nbformat_minor": 5
}
