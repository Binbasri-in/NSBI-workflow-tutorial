{
 "cells": [
  {
   "cell_type": "code",
   "execution_count": null,
   "id": "63f473bc-65f3-4d85-8715-a212abffeeeb",
   "metadata": {},
   "outputs": [],
   "source": [
    "import os, sys, importlib\n",
    "# sys.path.append('../')\n",
    "\n",
    "import nsbi_common_utils\n",
    "from nsbi_common_utils import plotting, training, inference\n",
    "import glob\n",
    "import numpy as np\n",
    "\n",
    "import pandas as pd\n",
    "from sklearn.model_selection import train_test_split\n",
    "from sklearn.preprocessing import StandardScaler, OneHotEncoder, MinMaxScaler\n",
    "import tensorflow as tf\n",
    "tf.get_logger().setLevel('ERROR')\n",
    "from tensorflow.keras.optimizers import Nadam\n",
    "import mplhep as hep\n",
    "import pickle\n",
    "import matplotlib.pyplot as plt\n",
    "import yaml\n",
    "\n",
    "import warnings\n",
    "warnings.filterwarnings(\"ignore\", category=RuntimeWarning)\n",
    "\n",
    "hep.style.use(hep.style.ATLAS)\n"
   ]
  },
  {
   "cell_type": "code",
   "execution_count": null,
   "id": "e95d23e4-7fb8-4e83-a906-f3f691f4fdf2",
   "metadata": {},
   "outputs": [],
   "source": [
    "# Initialize a skeleton workspace spec\n",
    "spec = {\n",
    "    \"channels\": [],\n",
    "    \"measurements\": [],\n",
    "    \"observations\": [],\n",
    "    \"version\": [],\n",
    "}"
   ]
  },
  {
   "cell_type": "code",
   "execution_count": null,
   "id": "fe1b6200-68f0-48ba-923d-148ce33b23d3",
   "metadata": {},
   "outputs": [],
   "source": [
    "with open(\"config.yml\", \"r\") as f:\n",
    "    config = yaml.safe_load(f)"
   ]
  },
  {
   "cell_type": "code",
   "execution_count": null,
   "id": "af161de9-be10-4b51-9bf2-a8aab85da9a8",
   "metadata": {},
   "outputs": [],
   "source": [
    "# path prefix for general save directory\n",
    "path_prefix = config['path_prefix']\n",
    "\n",
    "# sub-path for saving cached data used between modules\n",
    "path_saved_data = config['path_saved_data']\n",
    "saved_data = f'{path_prefix}{path_saved_data}'\n",
    "\n",
    "# Get the dictionary of labels to processes\n",
    "labels_dict = config[\"labels_dict\"]\n",
    "\n",
    "# Signal processes in the model\n",
    "signal_processeses = config[\"signal_processes\"]\n",
    "\n",
    "# Background processes in the model\n",
    "background_processes = config[\"background_processes\"]\n",
    "\n",
    "mix_model_hypotheses = config[\"mix_model_hypotheses\"]\n",
    "ref_processes = config[\"ref_processes\"]\n",
    "\n",
    "all_process = signal_processeses + background_processes\n",
    "\n",
    "channels_binned = config[\"channels_binned\"]\n",
    "channels_unbinned = config[\"channels_unbinned\"]\n",
    "\n",
    "print(channels_binned)\n",
    "print(channels_unbinned)"
   ]
  },
  {
   "cell_type": "code",
   "execution_count": null,
   "id": "872559e9-4eb3-4a5f-a2f2-6f286c849503",
   "metadata": {},
   "outputs": [],
   "source": [
    "# Load the nominal dataset for evaluation\n",
    "dataset = pd.read_hdf(f\"{saved_data}dataset_preselected_nominal_SR.h5\", key=\"dataset\", mode='r')\n",
    "\n",
    "mask_processes = {}\n",
    "for process_type in all_process:\n",
    "    mask_processes[process_type] = dataset.type==process_type\n",
    "\n",
    "# Mask that extracts the expected Asimov dataset\n",
    "process_asimov = all_process\n",
    "\n",
    "mask_Asimov = np.logical_or.reduce([mask_processes[process_type] for process_type in process_asimov])\n",
    "weights_Asimov = np.array(dataset[mask_Asimov].weights.ravel())"
   ]
  },
  {
   "cell_type": "code",
   "execution_count": null,
   "id": "3fe09af3-59e9-4273-9c61-34e596595407",
   "metadata": {},
   "outputs": [],
   "source": [
    "path_to_workspace_data_nominal = f'{path_prefix}output_training_nominal/'"
   ]
  },
  {
   "cell_type": "code",
   "execution_count": null,
   "id": "5c39c71f-00c9-415d-aa7d-21783ba15b91",
   "metadata": {},
   "outputs": [],
   "source": [
    "path_to_Asimov_weights = f\"{path_to_workspace_data_nominal}/weights_nominal_Asimov.npy\"\n",
    "np.save(path_to_Asimov_weights, weights_Asimov)"
   ]
  },
  {
   "cell_type": "code",
   "execution_count": null,
   "id": "52774015-cc7d-427a-999c-eecf7610271d",
   "metadata": {},
   "outputs": [],
   "source": [
    "spec_channels_list = []\n",
    "\n",
    "spec_channels_list.append(\n",
    "    \"name\": \"SR\",\n",
    "    \"type\": \"unbinned\",\n",
    "    \"weights\": path_to_Asimov_weights,\n",
    "    \"samples\": []\n",
    ")"
   ]
  },
  {
   "cell_type": "code",
   "execution_count": 30,
   "id": "917a2ac6-8a8a-4da0-abd1-3824f8e99124",
   "metadata": {},
   "outputs": [],
   "source": [
    "# spec[\"channels\"].append(\n",
    "#     {\n",
    "#         \"name\": \"SR\",\n",
    "#         \"type\": \"unbinned\",\n",
    "#         \"weights\": path_to_Asimov_weights,\n",
    "#         \"samples\": []\n",
    "#     }\n",
    "# )"
   ]
  },
  {
   "cell_type": "code",
   "execution_count": 31,
   "id": "e7f58b69-10a8-4504-b128-4f436b19042a",
   "metadata": {},
   "outputs": [
    {
     "data": {
      "text/plain": [
       "{'channels': [{'name': 'SR',\n",
       "   'type': 'unbinned',\n",
       "   'weights': '/home/jaySandesara/NSBI_workflow_tutorial/FAIR_universe_Higgs_tautau/output_training_nominal//weights_nominal_Asimov.npy',\n",
       "   'samples': []}],\n",
       " 'measurements': [],\n",
       " 'observations': [],\n",
       " 'version': []}"
      ]
     },
     "execution_count": 31,
     "metadata": {},
     "output_type": "execute_result"
    }
   ],
   "source": [
    "spec"
   ]
  },
  {
   "cell_type": "code",
   "execution_count": 33,
   "id": "65c3c593-f9f1-4d44-a5d6-14f4861b400d",
   "metadata": {},
   "outputs": [],
   "source": [
    "for process in all_process:\n",
    "    if process in mix_model_hypotheses:\n",
    "        path_to_ratio = f'{path_to_workspace_data_nominal}output_ratios_{process_type}/ratio_{process_type}.npy'\n",
    "        spec[\"channels\"][0][\"samples\"].append(\n",
    "            {\n",
    "                \"name\": process,\n",
    "                \"data\": path_to_ratio,\n",
    "                \"modifiers\":[\n",
    "                    {\n",
    "                        \"data\": None,\n",
    "                        \"name\": f\"mu_{process}\",\n",
    "                        \"type\": \"normfactor\",   \n",
    "                    },\n",
    "                ]\n",
    "            }\n",
    "        )\n",
    "    else:\n",
    "        # The case where a sample is used as reference and thus has density ratio = 1 by default\n",
    "        spec[\"channels\"][0][\"samples\"].append(\n",
    "            {\n",
    "                \"name\": process,\n",
    "                \"data\": \"\",\n",
    "                \"modifiers\":[\n",
    "                    {\n",
    "                        \"data\": None,\n",
    "                        \"name\": f\"mu_{process}\",\n",
    "                        \"type\": \"normfactor\",   \n",
    "                    },\n",
    "                ]\n",
    "            }\n",
    "        )\n",
    "    "
   ]
  },
  {
   "cell_type": "code",
   "execution_count": 36,
   "id": "0f9b22eb-ca54-4f47-acef-30ccdf433343",
   "metadata": {},
   "outputs": [
    {
     "data": {
      "text/plain": [
       "{'channels': [{'name': 'SR',\n",
       "   'type': 'unbinned',\n",
       "   'weights': '/home/jaySandesara/NSBI_workflow_tutorial/FAIR_universe_Higgs_tautau/output_training_nominal//weights_nominal_Asimov.npy',\n",
       "   'samples': [{'name': 'htautau',\n",
       "     'data': '/home/jaySandesara/NSBI_workflow_tutorial/FAIR_universe_Higgs_tautau/output_training_nominal/output_ratios_ztautau/ratio_ztautau.npy',\n",
       "     'modifiers': [{'data': None,\n",
       "       'name': 'mu_htautau',\n",
       "       'type': 'normfactor'}]},\n",
       "    {'name': 'ttbar',\n",
       "     'data': '/home/jaySandesara/NSBI_workflow_tutorial/FAIR_universe_Higgs_tautau/output_training_nominal/output_ratios_ztautau/ratio_ztautau.npy',\n",
       "     'modifiers': [{'data': None, 'name': 'mu_ttbar', 'type': 'normfactor'}]},\n",
       "    {'name': 'ztautau',\n",
       "     'data': '/home/jaySandesara/NSBI_workflow_tutorial/FAIR_universe_Higgs_tautau/output_training_nominal/output_ratios_ztautau/ratio_ztautau.npy',\n",
       "     'modifiers': [{'data': None,\n",
       "       'name': 'mu_ztautau',\n",
       "       'type': 'normfactor'}]}]}],\n",
       " 'measurements': [],\n",
       " 'observations': [],\n",
       " 'version': []}"
      ]
     },
     "execution_count": 36,
     "metadata": {},
     "output_type": "execute_result"
    }
   ],
   "source": [
    "spec"
   ]
  },
  {
   "cell_type": "code",
   "execution_count": null,
   "id": "c9e2a9fc-de1c-4d9f-9bb1-2e9a4908d009",
   "metadata": {},
   "outputs": [],
   "source": [
    "# Get the saved density ratios\n",
    "ratios = {}\n",
    "ratios['SR'] = {}\n",
    "\n",
    "for process_type in mix_model_hypotheses:\n",
    "\n",
    "    path_to_ratio = f'{top_path}output_ratios_{process_type}/ratio_{process_type}.npy'\n",
    "    ratios['SR'][process_type] = jnp.array(np.load(path_to_ratio)[mask_Asimov])\n",
    "\n",
    "for process in all_process:\n",
    "    if process not in mix_model_hypotheses:\n",
    "\n",
    "        ratios['SR'][process] = jnp.array(np.ones_like(ratios['SR'][mix_model_hypotheses[0]]))\n"
   ]
  },
  {
   "cell_type": "code",
   "execution_count": null,
   "id": "27bbf3d6-7da7-4ae3-a898-42aad04171a0",
   "metadata": {},
   "outputs": [],
   "source": [
    "spec = {\n",
    "    \"channels\": [\n",
    "        {\n",
    "            \"name\": \"SR\",\n",
    "            \"type\": \"unbinned\",\n",
    "            \"weights\": path_to_Asimov_weights,\n",
    "            \"samples\": [\n",
    "                {\n",
    "                    \"data\": \"/path/to/data/data.npy\",\n",
    "                    \"modifiers\":[\n",
    "                        \"data\": None,\n",
    "                        \"name\": \"mu_higgs\",\n",
    "                        \"type\": \"normfactor\"\n",
    "                    ],\n",
    "                    \"name\": \"Signal\"\n",
    "                },\n",
    "                {\n",
    "                    \"data\": \"/path/to/data/data.npy\",\n",
    "                    \"weights\": \"/path/to/weights/weights.npy\",\n",
    "                    \"modifiers\": [\n",
    "                        \"data\": None,\n",
    "                        \"name\": \"mu_ztautau\",\n",
    "                        \"type\": \"normfactor\"\n",
    "                    ],\n",
    "                    \"name\": \"Background\",\n",
    "                },\n",
    "            ]\n",
    "        },\n",
    "        {\n",
    "            \"name\": \"SR_binned\",\n",
    "            \"type\": \"binned\",\n",
    "            \"samples\": [\n",
    "                {\n",
    "                    \"data\": [],\n",
    "                    \"modifiers\": [],\n",
    "                    \"name\": \"Signal\"\n",
    "                },\n",
    "                {\n",
    "                    \"data\": [],\n",
    "                    \"modifiers\": [],\n",
    "                    \"name\": \"Background\"\n",
    "                }\n",
    "            ]\n",
    "        }\n",
    "    ],\n",
    "    \"measurements\": [],\n",
    "    \"observations\":[],\n",
    "    \"version\": \"1.0.0\"\n",
    "}"
   ]
  }
 ],
 "metadata": {
  "kernelspec": {
   "display_name": "NSBI",
   "language": "python",
   "name": "nsbi"
  },
  "language_info": {
   "codemirror_mode": {
    "name": "ipython",
    "version": 3
   },
   "file_extension": ".py",
   "mimetype": "text/x-python",
   "name": "python",
   "nbconvert_exporter": "python",
   "pygments_lexer": "ipython3",
   "version": "3.11.11"
  }
 },
 "nbformat": 4,
 "nbformat_minor": 5
}
