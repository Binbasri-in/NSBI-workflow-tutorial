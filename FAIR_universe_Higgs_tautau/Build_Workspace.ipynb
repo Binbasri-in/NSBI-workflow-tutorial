{
 "cells": [
  {
   "cell_type": "code",
   "execution_count": 3,
   "id": "63f473bc-65f3-4d85-8715-a212abffeeeb",
   "metadata": {},
   "outputs": [
    {
     "name": "stdout",
     "output_type": "stream",
     "text": [
      "ERROR! Session/line number was not unique in database. History logging moved to new session 706\n"
     ]
    },
    {
     "name": "stderr",
     "output_type": "stream",
     "text": [
      "/data/jaySandesara/NSBI_workflow_tutorial/src/nsbi_common_utils/plotting.py:11: FutureWarning: ``set_style`` is deprecated: Naming convention is changing to match mpl. Use ``mplhep.style.use()``.\n",
      "  hep.set_style(\"ATLAS\")\n",
      "2025-08-05 14:22:41.842872: E external/local_xla/xla/stream_executor/cuda/cuda_fft.cc:477] Unable to register cuFFT factory: Attempting to register factory for plugin cuFFT when one has already been registered\n",
      "WARNING: All log messages before absl::InitializeLog() is called are written to STDERR\n",
      "E0000 00:00:1754403761.862438    1153 cuda_dnn.cc:8310] Unable to register cuDNN factory: Attempting to register factory for plugin cuDNN when one has already been registered\n",
      "E0000 00:00:1754403761.868337    1153 cuda_blas.cc:1418] Unable to register cuBLAS factory: Attempting to register factory for plugin cuBLAS when one has already been registered\n",
      "2025-08-05 14:22:41.889193: I tensorflow/core/platform/cpu_feature_guard.cc:210] This TensorFlow binary is optimized to use available CPU instructions in performance-critical operations.\n",
      "To enable the following instructions: AVX2 FMA, in other operations, rebuild TensorFlow with the appropriate compiler flags.\n"
     ]
    }
   ],
   "source": [
    "import os, sys, importlib\n",
    "# sys.path.append('../')\n",
    "\n",
    "import nsbi_common_utils\n",
    "from nsbi_common_utils import plotting, training, inference\n",
    "import glob\n",
    "import numpy as np\n",
    "\n",
    "import pandas as pd\n",
    "from sklearn.model_selection import train_test_split\n",
    "from sklearn.preprocessing import StandardScaler, OneHotEncoder, MinMaxScaler\n",
    "import tensorflow as tf\n",
    "tf.get_logger().setLevel('ERROR')\n",
    "from tensorflow.keras.optimizers import Nadam\n",
    "import mplhep as hep\n",
    "import pickle\n",
    "import matplotlib.pyplot as plt\n",
    "import yaml\n",
    "\n",
    "import warnings\n",
    "warnings.filterwarnings(\"ignore\", category=RuntimeWarning)\n",
    "\n",
    "hep.style.use(hep.style.ATLAS)\n"
   ]
  },
  {
   "cell_type": "code",
   "execution_count": 17,
   "id": "e95d23e4-7fb8-4e83-a906-f3f691f4fdf2",
   "metadata": {},
   "outputs": [],
   "source": [
    "# Initialize a skeleton workspace spec\n",
    "spec = {\n",
    "    \"channels\": [],\n",
    "    \"measurements\": [],\n",
    "    \"observations\": [],\n",
    "    \"version\": [],\n",
    "}"
   ]
  },
  {
   "cell_type": "code",
   "execution_count": 18,
   "id": "fe1b6200-68f0-48ba-923d-148ce33b23d3",
   "metadata": {},
   "outputs": [],
   "source": [
    "with open(\"config.yml\", \"r\") as f:\n",
    "    config = yaml.safe_load(f)"
   ]
  },
  {
   "cell_type": "code",
   "execution_count": 19,
   "id": "af161de9-be10-4b51-9bf2-a8aab85da9a8",
   "metadata": {},
   "outputs": [
    {
     "name": "stdout",
     "output_type": "stream",
     "text": [
      "['SR_binned', 'CR']\n",
      "['SR']\n"
     ]
    }
   ],
   "source": [
    "# path prefix for general save directory\n",
    "path_prefix = config['path_prefix']\n",
    "\n",
    "# sub-path for saving cached data used between modules\n",
    "path_saved_data = config['path_saved_data']\n",
    "saved_data = f'{path_prefix}{path_saved_data}'\n",
    "\n",
    "# Get the dictionary of labels to processes\n",
    "labels_dict = config[\"labels_dict\"]\n",
    "\n",
    "# Signal processes in the model\n",
    "signal_processeses = config[\"signal_processes\"]\n",
    "\n",
    "# Background processes in the model\n",
    "background_processes = config[\"background_processes\"]\n",
    "\n",
    "mix_model_hypotheses = config[\"mix_model_hypotheses\"]\n",
    "ref_processes = config[\"ref_processes\"]\n",
    "\n",
    "all_process = signal_processeses + background_processes\n",
    "\n",
    "channels_binned = config[\"channels_binned\"]\n",
    "channels_unbinned = config[\"channels_unbinned\"]\n",
    "\n",
    "print(channels_binned)\n",
    "print(channels_unbinned)"
   ]
  },
  {
   "cell_type": "code",
   "execution_count": 20,
   "id": "872559e9-4eb3-4a5f-a2f2-6f286c849503",
   "metadata": {},
   "outputs": [
    {
     "name": "stderr",
     "output_type": "stream",
     "text": [
      "/tmp/ipykernel_1153/349965629.py:12: FutureWarning: Series.ravel is deprecated. The underlying array is already 1D, so ravel is not necessary.  Use `to_numpy()` for conversion to a numpy array instead.\n",
      "  weights_Asimov = np.array(dataset[mask_Asimov].weights.ravel())\n"
     ]
    }
   ],
   "source": [
    "# Load the nominal dataset for evaluation\n",
    "dataset = pd.read_hdf(f\"{saved_data}dataset_preselected_nominal_SR.h5\", key=\"dataset\", mode='r')\n",
    "\n",
    "mask_processes = {}\n",
    "for process_type in all_process:\n",
    "    mask_processes[process_type] = dataset.type==process_type\n",
    "\n",
    "# Mask that extracts the expected Asimov dataset\n",
    "process_asimov = all_process\n",
    "\n",
    "mask_Asimov = np.logical_or.reduce([mask_processes[process_type] for process_type in process_asimov])\n",
    "weights_Asimov = np.array(dataset[mask_Asimov].weights.ravel())"
   ]
  },
  {
   "cell_type": "code",
   "execution_count": 21,
   "id": "3fe09af3-59e9-4273-9c61-34e596595407",
   "metadata": {},
   "outputs": [],
   "source": [
    "path_to_workspace_data_nominal = f'{path_prefix}output_training_nominal/'"
   ]
  },
  {
   "cell_type": "code",
   "execution_count": 22,
   "id": "5c39c71f-00c9-415d-aa7d-21783ba15b91",
   "metadata": {},
   "outputs": [],
   "source": [
    "path_to_Asimov_weights = f\"{path_to_workspace_data_nominal}/weights_nominal_Asimov.npy\"\n",
    "np.save(path_to_Asimov_weights, weights_Asimov)"
   ]
  },
  {
   "cell_type": "code",
   "execution_count": 23,
   "id": "52774015-cc7d-427a-999c-eecf7610271d",
   "metadata": {},
   "outputs": [],
   "source": [
    "spec_channels_list = []\n",
    "\n",
    "spec_channels_list.append(\n",
    "    {\n",
    "        \"name\": \"SR\",\n",
    "        \"type\": \"unbinned\",\n",
    "        \"weights\": path_to_Asimov_weights,\n",
    "        \"samples\": []\n",
    "    }\n",
    ")"
   ]
  },
  {
   "cell_type": "code",
   "execution_count": 24,
   "id": "65c3c593-f9f1-4d44-a5d6-14f4861b400d",
   "metadata": {},
   "outputs": [],
   "source": [
    "for process in all_process:\n",
    "    if process in mix_model_hypotheses:\n",
    "        path_to_ratio = f'{path_to_workspace_data_nominal}output_ratios_{process_type}/ratio_{process_type}.npy'\n",
    "        spec_channels_list[0][\"samples\"].append(\n",
    "            {\n",
    "                \"name\": process,\n",
    "                \"data\": path_to_ratio,\n",
    "                \"modifiers\":[\n",
    "                    {\n",
    "                        \"data\": None,\n",
    "                        \"name\": f\"mu_{process}\",\n",
    "                        \"type\": \"normfactor\",   \n",
    "                    },\n",
    "                ]\n",
    "            }\n",
    "        )\n",
    "    else:\n",
    "        # The case where a sample is used as reference and thus has density ratio = 1 by default\n",
    "        spec_channels_list[0][\"samples\"].append(\n",
    "            {\n",
    "                \"name\": process,\n",
    "                \"data\": \"\",\n",
    "                \"modifiers\":[\n",
    "                    {\n",
    "                        \"data\": None,\n",
    "                        \"name\": f\"mu_{process}\",\n",
    "                        \"type\": \"normfactor\",   \n",
    "                    },\n",
    "                ]\n",
    "            }\n",
    "        )\n",
    "    "
   ]
  },
  {
   "cell_type": "code",
   "execution_count": 25,
   "id": "493799b2-93d1-4061-8907-3ce6aa73cce4",
   "metadata": {},
   "outputs": [],
   "source": [
    "for channel in channels_binned:\n",
    "    spec_channels_list.append(\n",
    "        {\n",
    "            \"name\": channel,\n",
    "            \"type\": \"binned\",\n",
    "            \"samples\": []\n",
    "        }\n",
    "    )\n",
    "\n",
    "    with open(f\"{saved_data}hist_binned_{channel}.pkl\", \"rb\") as fp:\n",
    "            hist_channel = pickle.load(fp)\n",
    "        \n",
    "    for process in all_process:\n",
    "        \n",
    "        spec_channels_list[-1][\"samples\"].append(\n",
    "            {\n",
    "                \"name\": process,\n",
    "                \"data\": hist_channel[process],\n",
    "                \"modifiers\": {\n",
    "                    \"data\": None,\n",
    "                    \"name\": f\"mu_{process}\",\n",
    "                    \"type\": \"normfactor\",  \n",
    "                }\n",
    "            }\n",
    "    )"
   ]
  },
  {
   "cell_type": "code",
   "execution_count": 26,
   "id": "bf457a30-e0fe-475c-8d17-5c58d24243d0",
   "metadata": {},
   "outputs": [
    {
     "data": {
      "text/plain": [
       "[{'name': 'SR',\n",
       "  'type': 'unbinned',\n",
       "  'weights': '/home/jaySandesara/NSBI_workflow_tutorial/FAIR_universe_Higgs_tautau/output_training_nominal//weights_nominal_Asimov.npy',\n",
       "  'samples': [{'name': 'htautau',\n",
       "    'data': '/home/jaySandesara/NSBI_workflow_tutorial/FAIR_universe_Higgs_tautau/output_training_nominal/output_ratios_ztautau/ratio_ztautau.npy',\n",
       "    'modifiers': [{'data': None, 'name': 'mu_htautau', 'type': 'normfactor'}]},\n",
       "   {'name': 'ttbar',\n",
       "    'data': '/home/jaySandesara/NSBI_workflow_tutorial/FAIR_universe_Higgs_tautau/output_training_nominal/output_ratios_ztautau/ratio_ztautau.npy',\n",
       "    'modifiers': [{'data': None, 'name': 'mu_ttbar', 'type': 'normfactor'}]},\n",
       "   {'name': 'ztautau',\n",
       "    'data': '/home/jaySandesara/NSBI_workflow_tutorial/FAIR_universe_Higgs_tautau/output_training_nominal/output_ratios_ztautau/ratio_ztautau.npy',\n",
       "    'modifiers': [{'data': None,\n",
       "      'name': 'mu_ztautau',\n",
       "      'type': 'normfactor'}]}]},\n",
       " {'name': 'SR_binned',\n",
       "  'type': 'binned',\n",
       "  'samples': [{'name': 'htautau',\n",
       "    'data': array([1.3404816], dtype=float32),\n",
       "    'modifiers': {'data': None, 'name': 'mu_htautau', 'type': 'normfactor'}},\n",
       "   {'name': 'ttbar',\n",
       "    'data': array([0.20330866], dtype=float32),\n",
       "    'modifiers': {'data': None, 'name': 'mu_ttbar', 'type': 'normfactor'}},\n",
       "   {'name': 'ztautau',\n",
       "    'data': array([7.261923], dtype=float32),\n",
       "    'modifiers': {'data': None, 'name': 'mu_ztautau', 'type': 'normfactor'}}]},\n",
       " {'name': 'CR',\n",
       "  'type': 'binned',\n",
       "  'samples': [{'name': 'htautau',\n",
       "    'data': array([3.4308802e-02, 1.9245273e+00, 1.4397985e+01, 1.4372072e+02],\n",
       "          dtype=float32),\n",
       "    'modifiers': {'data': None, 'name': 'mu_htautau', 'type': 'normfactor'}},\n",
       "   {'name': 'ttbar',\n",
       "    'data': array([  110.26796,  8016.983  , 20536.422  ,  9058.744  ], dtype=float32),\n",
       "    'modifiers': {'data': None, 'name': 'mu_ttbar', 'type': 'normfactor'}},\n",
       "   {'name': 'ztautau',\n",
       "    'data': array([2.6406991e+00, 2.5416725e+02, 1.9917854e+04, 6.4259150e+05],\n",
       "          dtype=float32),\n",
       "    'modifiers': {'data': None, 'name': 'mu_ztautau', 'type': 'normfactor'}}]}]"
      ]
     },
     "execution_count": 26,
     "metadata": {},
     "output_type": "execute_result"
    }
   ],
   "source": [
    "spec = {\n",
    "    \"channels\": spec_channels_list,\n",
    "    \"measurements\": [\n",
    "        \n",
    "    ],\n",
    "    \"observations\": [],\n",
    "    \"version\": [],\n",
    "}"
   ]
  },
  {
   "cell_type": "code",
   "execution_count": null,
   "id": "27bbf3d6-7da7-4ae3-a898-42aad04171a0",
   "metadata": {},
   "outputs": [],
   "source": [
    "spec = {\n",
    "    \"channels\": [\n",
    "        {\n",
    "            \"name\": \"SR\",\n",
    "            \"type\": \"unbinned\",\n",
    "            \"weights\": path_to_Asimov_weights,\n",
    "            \"samples\": [\n",
    "                {\n",
    "                    \"data\": \"/path/to/data/data.npy\",\n",
    "                    \"modifiers\":[\n",
    "                        \"data\": None,\n",
    "                        \"name\": \"mu_higgs\",\n",
    "                        \"type\": \"normfactor\"\n",
    "                    ],\n",
    "                    \"name\": \"Signal\"\n",
    "                },\n",
    "                {\n",
    "                    \"data\": \"/path/to/data/data.npy\",\n",
    "                    \"weights\": \"/path/to/weights/weights.npy\",\n",
    "                    \"modifiers\": [\n",
    "                        \"data\": None,\n",
    "                        \"name\": \"mu_ztautau\",\n",
    "                        \"type\": \"normfactor\"\n",
    "                    ],\n",
    "                    \"name\": \"Background\",\n",
    "                },\n",
    "            ]\n",
    "        },\n",
    "        {\n",
    "            \"name\": \"SR_binned\",\n",
    "            \"type\": \"binned\",\n",
    "            \"samples\": [\n",
    "                {\n",
    "                    \"data\": [],\n",
    "                    \"modifiers\": [],\n",
    "                    \"name\": \"Signal\"\n",
    "                },\n",
    "                {\n",
    "                    \"data\": [],\n",
    "                    \"modifiers\": [],\n",
    "                    \"name\": \"Background\"\n",
    "                }\n",
    "            ]\n",
    "        }\n",
    "    ],\n",
    "    \"measurements\": [],\n",
    "    \"observations\":[],\n",
    "    \"version\": \"1.0.0\"\n",
    "}"
   ]
  }
 ],
 "metadata": {
  "kernelspec": {
   "display_name": "NSBI",
   "language": "python",
   "name": "nsbi"
  },
  "language_info": {
   "codemirror_mode": {
    "name": "ipython",
    "version": 3
   },
   "file_extension": ".py",
   "mimetype": "text/x-python",
   "name": "python",
   "nbconvert_exporter": "python",
   "pygments_lexer": "ipython3",
   "version": "3.11.11"
  }
 },
 "nbformat": 4,
 "nbformat_minor": 5
}
